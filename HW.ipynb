{
 "cells": [
  {
   "cell_type": "code",
   "execution_count": 271,
   "metadata": {},
   "outputs": [],
   "source": [
    "import pandas as pd\n",
    "import numpy as np\n",
    "import matplotlib.pyplot as plt\n",
    "from scipy import stats\n",
    "import math\n",
    "\n",
    "plt.style.use('ggplot')"
   ]
  },
  {
   "cell_type": "code",
   "execution_count": 171,
   "metadata": {},
   "outputs": [],
   "source": [
    "data = pd.read_excel(\"data.xlsx\", sheet_name=\"B - bodyfat\")\n",
    "pd.set_option(\"display.precision\", 3)"
   ]
  },
  {
   "cell_type": "code",
   "execution_count": 172,
   "metadata": {},
   "outputs": [
    {
     "data": {
      "text/html": [
       "<div>\n",
       "<style scoped>\n",
       "    .dataframe tbody tr th:only-of-type {\n",
       "        vertical-align: middle;\n",
       "    }\n",
       "\n",
       "    .dataframe tbody tr th {\n",
       "        vertical-align: top;\n",
       "    }\n",
       "\n",
       "    .dataframe thead th {\n",
       "        text-align: right;\n",
       "    }\n",
       "</style>\n",
       "<table border=\"1\" class=\"dataframe\">\n",
       "  <thead>\n",
       "    <tr style=\"text-align: right;\">\n",
       "      <th></th>\n",
       "      <th>B1</th>\n",
       "      <th>B2</th>\n",
       "      <th>B3</th>\n",
       "      <th>B4</th>\n",
       "      <th>B5</th>\n",
       "      <th>B6</th>\n",
       "      <th>B7</th>\n",
       "      <th>B8</th>\n",
       "      <th>B9</th>\n",
       "      <th>B10</th>\n",
       "      <th>B11</th>\n",
       "      <th>B12</th>\n",
       "      <th>B13</th>\n",
       "      <th>B14</th>\n",
       "      <th>B15</th>\n",
       "      <th>B16</th>\n",
       "      <th>B17</th>\n",
       "      <th>B18</th>\n",
       "    </tr>\n",
       "  </thead>\n",
       "  <tbody>\n",
       "    <tr>\n",
       "      <th>0</th>\n",
       "      <td>1.071</td>\n",
       "      <td>12.3</td>\n",
       "      <td>normal</td>\n",
       "      <td>23</td>\n",
       "      <td>Male</td>\n",
       "      <td>Somerville</td>\n",
       "      <td>154.25</td>\n",
       "      <td>67.75</td>\n",
       "      <td>36.2</td>\n",
       "      <td>93.1</td>\n",
       "      <td>85.2</td>\n",
       "      <td>94.5</td>\n",
       "      <td>59.0</td>\n",
       "      <td>37.3</td>\n",
       "      <td>21.9</td>\n",
       "      <td>32.0</td>\n",
       "      <td>27.4</td>\n",
       "      <td>17.1</td>\n",
       "    </tr>\n",
       "    <tr>\n",
       "      <th>1</th>\n",
       "      <td>1.085</td>\n",
       "      <td>6.1</td>\n",
       "      <td>low</td>\n",
       "      <td>22</td>\n",
       "      <td>Male</td>\n",
       "      <td>Somerville</td>\n",
       "      <td>173.25</td>\n",
       "      <td>72.25</td>\n",
       "      <td>38.5</td>\n",
       "      <td>93.6</td>\n",
       "      <td>83.0</td>\n",
       "      <td>98.7</td>\n",
       "      <td>58.7</td>\n",
       "      <td>37.3</td>\n",
       "      <td>23.4</td>\n",
       "      <td>30.5</td>\n",
       "      <td>28.9</td>\n",
       "      <td>18.2</td>\n",
       "    </tr>\n",
       "    <tr>\n",
       "      <th>2</th>\n",
       "      <td>1.041</td>\n",
       "      <td>25.3</td>\n",
       "      <td>high</td>\n",
       "      <td>22</td>\n",
       "      <td>Male</td>\n",
       "      <td>Somerville</td>\n",
       "      <td>154.00</td>\n",
       "      <td>66.25</td>\n",
       "      <td>34.0</td>\n",
       "      <td>95.8</td>\n",
       "      <td>87.9</td>\n",
       "      <td>99.2</td>\n",
       "      <td>59.6</td>\n",
       "      <td>38.9</td>\n",
       "      <td>24.0</td>\n",
       "      <td>28.8</td>\n",
       "      <td>25.2</td>\n",
       "      <td>16.6</td>\n",
       "    </tr>\n",
       "    <tr>\n",
       "      <th>3</th>\n",
       "      <td>1.075</td>\n",
       "      <td>10.4</td>\n",
       "      <td>normal</td>\n",
       "      <td>26</td>\n",
       "      <td>Male</td>\n",
       "      <td>Somerville</td>\n",
       "      <td>184.75</td>\n",
       "      <td>72.25</td>\n",
       "      <td>37.4</td>\n",
       "      <td>101.8</td>\n",
       "      <td>86.4</td>\n",
       "      <td>101.2</td>\n",
       "      <td>60.1</td>\n",
       "      <td>37.3</td>\n",
       "      <td>22.8</td>\n",
       "      <td>32.4</td>\n",
       "      <td>29.4</td>\n",
       "      <td>18.2</td>\n",
       "    </tr>\n",
       "    <tr>\n",
       "      <th>4</th>\n",
       "      <td>1.034</td>\n",
       "      <td>28.7</td>\n",
       "      <td>high</td>\n",
       "      <td>24</td>\n",
       "      <td>Male</td>\n",
       "      <td>Somerville</td>\n",
       "      <td>184.25</td>\n",
       "      <td>71.25</td>\n",
       "      <td>34.4</td>\n",
       "      <td>97.3</td>\n",
       "      <td>100.0</td>\n",
       "      <td>101.9</td>\n",
       "      <td>63.2</td>\n",
       "      <td>42.2</td>\n",
       "      <td>24.0</td>\n",
       "      <td>32.2</td>\n",
       "      <td>27.7</td>\n",
       "      <td>17.7</td>\n",
       "    </tr>\n",
       "    <tr>\n",
       "      <th>...</th>\n",
       "      <td>...</td>\n",
       "      <td>...</td>\n",
       "      <td>...</td>\n",
       "      <td>...</td>\n",
       "      <td>...</td>\n",
       "      <td>...</td>\n",
       "      <td>...</td>\n",
       "      <td>...</td>\n",
       "      <td>...</td>\n",
       "      <td>...</td>\n",
       "      <td>...</td>\n",
       "      <td>...</td>\n",
       "      <td>...</td>\n",
       "      <td>...</td>\n",
       "      <td>...</td>\n",
       "      <td>...</td>\n",
       "      <td>...</td>\n",
       "      <td>...</td>\n",
       "    </tr>\n",
       "    <tr>\n",
       "      <th>247</th>\n",
       "      <td>1.074</td>\n",
       "      <td>11.0</td>\n",
       "      <td>normal</td>\n",
       "      <td>70</td>\n",
       "      <td>Male</td>\n",
       "      <td>Revere</td>\n",
       "      <td>134.25</td>\n",
       "      <td>67.00</td>\n",
       "      <td>34.9</td>\n",
       "      <td>89.2</td>\n",
       "      <td>83.6</td>\n",
       "      <td>88.8</td>\n",
       "      <td>49.6</td>\n",
       "      <td>34.8</td>\n",
       "      <td>21.5</td>\n",
       "      <td>25.6</td>\n",
       "      <td>25.7</td>\n",
       "      <td>18.5</td>\n",
       "    </tr>\n",
       "    <tr>\n",
       "      <th>248</th>\n",
       "      <td>1.024</td>\n",
       "      <td>33.6</td>\n",
       "      <td>high</td>\n",
       "      <td>72</td>\n",
       "      <td>Female</td>\n",
       "      <td>Revere</td>\n",
       "      <td>201.00</td>\n",
       "      <td>69.75</td>\n",
       "      <td>40.9</td>\n",
       "      <td>108.5</td>\n",
       "      <td>105.0</td>\n",
       "      <td>104.5</td>\n",
       "      <td>59.6</td>\n",
       "      <td>40.8</td>\n",
       "      <td>23.2</td>\n",
       "      <td>35.2</td>\n",
       "      <td>28.6</td>\n",
       "      <td>20.1</td>\n",
       "    </tr>\n",
       "    <tr>\n",
       "      <th>249</th>\n",
       "      <td>1.033</td>\n",
       "      <td>29.3</td>\n",
       "      <td>high</td>\n",
       "      <td>72</td>\n",
       "      <td>Female</td>\n",
       "      <td>Revere</td>\n",
       "      <td>186.75</td>\n",
       "      <td>66.00</td>\n",
       "      <td>38.9</td>\n",
       "      <td>111.1</td>\n",
       "      <td>111.5</td>\n",
       "      <td>101.7</td>\n",
       "      <td>60.3</td>\n",
       "      <td>37.3</td>\n",
       "      <td>21.5</td>\n",
       "      <td>31.3</td>\n",
       "      <td>27.2</td>\n",
       "      <td>18.0</td>\n",
       "    </tr>\n",
       "    <tr>\n",
       "      <th>250</th>\n",
       "      <td>1.040</td>\n",
       "      <td>26.0</td>\n",
       "      <td>high</td>\n",
       "      <td>72</td>\n",
       "      <td>Female</td>\n",
       "      <td>Revere</td>\n",
       "      <td>190.75</td>\n",
       "      <td>70.50</td>\n",
       "      <td>38.9</td>\n",
       "      <td>108.3</td>\n",
       "      <td>101.3</td>\n",
       "      <td>97.8</td>\n",
       "      <td>56.0</td>\n",
       "      <td>41.6</td>\n",
       "      <td>22.7</td>\n",
       "      <td>30.5</td>\n",
       "      <td>29.4</td>\n",
       "      <td>19.8</td>\n",
       "    </tr>\n",
       "    <tr>\n",
       "      <th>251</th>\n",
       "      <td>1.027</td>\n",
       "      <td>31.9</td>\n",
       "      <td>high</td>\n",
       "      <td>74</td>\n",
       "      <td>Female</td>\n",
       "      <td>Revere</td>\n",
       "      <td>207.50</td>\n",
       "      <td>70.00</td>\n",
       "      <td>40.8</td>\n",
       "      <td>112.4</td>\n",
       "      <td>108.5</td>\n",
       "      <td>107.1</td>\n",
       "      <td>59.3</td>\n",
       "      <td>42.2</td>\n",
       "      <td>24.6</td>\n",
       "      <td>33.7</td>\n",
       "      <td>30.0</td>\n",
       "      <td>20.9</td>\n",
       "    </tr>\n",
       "  </tbody>\n",
       "</table>\n",
       "<p>252 rows × 18 columns</p>\n",
       "</div>"
      ],
      "text/plain": [
       "        B1    B2      B3  B4      B5          B6      B7     B8    B9    B10  \\\n",
       "0    1.071  12.3  normal  23    Male  Somerville  154.25  67.75  36.2   93.1   \n",
       "1    1.085   6.1     low  22    Male  Somerville  173.25  72.25  38.5   93.6   \n",
       "2    1.041  25.3    high  22    Male  Somerville  154.00  66.25  34.0   95.8   \n",
       "3    1.075  10.4  normal  26    Male  Somerville  184.75  72.25  37.4  101.8   \n",
       "4    1.034  28.7    high  24    Male  Somerville  184.25  71.25  34.4   97.3   \n",
       "..     ...   ...     ...  ..     ...         ...     ...    ...   ...    ...   \n",
       "247  1.074  11.0  normal  70    Male      Revere  134.25  67.00  34.9   89.2   \n",
       "248  1.024  33.6    high  72  Female      Revere  201.00  69.75  40.9  108.5   \n",
       "249  1.033  29.3    high  72  Female      Revere  186.75  66.00  38.9  111.1   \n",
       "250  1.040  26.0    high  72  Female      Revere  190.75  70.50  38.9  108.3   \n",
       "251  1.027  31.9    high  74  Female      Revere  207.50  70.00  40.8  112.4   \n",
       "\n",
       "       B11    B12   B13   B14   B15   B16   B17   B18  \n",
       "0     85.2   94.5  59.0  37.3  21.9  32.0  27.4  17.1  \n",
       "1     83.0   98.7  58.7  37.3  23.4  30.5  28.9  18.2  \n",
       "2     87.9   99.2  59.6  38.9  24.0  28.8  25.2  16.6  \n",
       "3     86.4  101.2  60.1  37.3  22.8  32.4  29.4  18.2  \n",
       "4    100.0  101.9  63.2  42.2  24.0  32.2  27.7  17.7  \n",
       "..     ...    ...   ...   ...   ...   ...   ...   ...  \n",
       "247   83.6   88.8  49.6  34.8  21.5  25.6  25.7  18.5  \n",
       "248  105.0  104.5  59.6  40.8  23.2  35.2  28.6  20.1  \n",
       "249  111.5  101.7  60.3  37.3  21.5  31.3  27.2  18.0  \n",
       "250  101.3   97.8  56.0  41.6  22.7  30.5  29.4  19.8  \n",
       "251  108.5  107.1  59.3  42.2  24.6  33.7  30.0  20.9  \n",
       "\n",
       "[252 rows x 18 columns]"
      ]
     },
     "execution_count": 172,
     "metadata": {},
     "output_type": "execute_result"
    }
   ],
   "source": [
    "data"
   ]
  },
  {
   "attachments": {},
   "cell_type": "markdown",
   "metadata": {},
   "source": [
    "# Задание 1"
   ]
  },
  {
   "cell_type": "code",
   "execution_count": 173,
   "metadata": {},
   "outputs": [
    {
     "data": {
      "text/html": [
       "<div>\n",
       "<style scoped>\n",
       "    .dataframe tbody tr th:only-of-type {\n",
       "        vertical-align: middle;\n",
       "    }\n",
       "\n",
       "    .dataframe tbody tr th {\n",
       "        vertical-align: top;\n",
       "    }\n",
       "\n",
       "    .dataframe thead th {\n",
       "        text-align: right;\n",
       "    }\n",
       "</style>\n",
       "<table border=\"1\" class=\"dataframe\">\n",
       "  <thead>\n",
       "    <tr style=\"text-align: right;\">\n",
       "      <th></th>\n",
       "      <th>B10</th>\n",
       "      <th>B11</th>\n",
       "      <th>B12</th>\n",
       "    </tr>\n",
       "  </thead>\n",
       "  <tbody>\n",
       "    <tr>\n",
       "      <th>Среднее</th>\n",
       "      <td>100.824</td>\n",
       "      <td>92.556</td>\n",
       "      <td>99.905</td>\n",
       "    </tr>\n",
       "    <tr>\n",
       "      <th>Выборочная дисперсия</th>\n",
       "      <td>70.791</td>\n",
       "      <td>115.813</td>\n",
       "      <td>51.120</td>\n",
       "    </tr>\n",
       "    <tr>\n",
       "      <th>Выборочное среднеквадратическое отклонение</th>\n",
       "      <td>8.414</td>\n",
       "      <td>10.762</td>\n",
       "      <td>7.150</td>\n",
       "    </tr>\n",
       "    <tr>\n",
       "      <th>Выборочный коэффициент асимметрии</th>\n",
       "      <td>0.677</td>\n",
       "      <td>0.833</td>\n",
       "      <td>1.488</td>\n",
       "    </tr>\n",
       "    <tr>\n",
       "      <th>Выборочный эксцесс</th>\n",
       "      <td>0.944</td>\n",
       "      <td>2.181</td>\n",
       "      <td>7.300</td>\n",
       "    </tr>\n",
       "  </tbody>\n",
       "</table>\n",
       "</div>"
      ],
      "text/plain": [
       "                                                B10      B11     B12\n",
       "Среднее                                     100.824   92.556  99.905\n",
       "Выборочная дисперсия                         70.791  115.813  51.120\n",
       "Выборочное среднеквадратическое отклонение    8.414   10.762   7.150\n",
       "Выборочный коэффициент асимметрии             0.677    0.833   1.488\n",
       "Выборочный эксцесс                            0.944    2.181   7.300"
      ]
     },
     "execution_count": 173,
     "metadata": {},
     "output_type": "execute_result"
    }
   ],
   "source": [
    "task1_1_data = data.loc[:, \"B10\":\"B12\"]\n",
    "\n",
    "\n",
    "pd.DataFrame({\"Среднее\" : task1_1_data.mean(), \n",
    "              \"Выборочная дисперсия\": task1_1_data.var(ddof=0),\n",
    "              \"Выборочное среднеквадратическое отклонение\": task1_1_data.std(ddof=0),\n",
    "              \"Выборочный коэффициент асимметрии\": stats.skew(task1_1_data),\n",
    "              \"Выборочный эксцесс\": stats.kurtosis(task1_1_data)\n",
    "              }).T"
   ]
  },
  {
   "cell_type": "code",
   "execution_count": 174,
   "metadata": {},
   "outputs": [
    {
     "name": "stdout",
     "output_type": "stream",
     "text": [
      "n: 252 bins: 8 length: 7.112499999999999\n"
     ]
    },
    {
     "data": {
      "text/html": [
       "<div>\n",
       "<style scoped>\n",
       "    .dataframe tbody tr th:only-of-type {\n",
       "        vertical-align: middle;\n",
       "    }\n",
       "\n",
       "    .dataframe tbody tr th {\n",
       "        vertical-align: top;\n",
       "    }\n",
       "\n",
       "    .dataframe thead th {\n",
       "        text-align: right;\n",
       "    }\n",
       "</style>\n",
       "<table border=\"1\" class=\"dataframe\">\n",
       "  <thead>\n",
       "    <tr style=\"text-align: right;\">\n",
       "      <th></th>\n",
       "      <th>Нижняя граница</th>\n",
       "      <th>Верхняя граница</th>\n",
       "      <th>Частота</th>\n",
       "      <th>Относит. частота</th>\n",
       "      <th>Накопл. частота</th>\n",
       "      <th>Относит. накопл. частота</th>\n",
       "    </tr>\n",
       "  </thead>\n",
       "  <tbody>\n",
       "    <tr>\n",
       "      <th>0</th>\n",
       "      <td>79.300</td>\n",
       "      <td>86.412</td>\n",
       "      <td>4.0</td>\n",
       "      <td>0.016</td>\n",
       "      <td>4.0</td>\n",
       "      <td>0.016</td>\n",
       "    </tr>\n",
       "    <tr>\n",
       "      <th>1</th>\n",
       "      <td>86.412</td>\n",
       "      <td>93.525</td>\n",
       "      <td>51.0</td>\n",
       "      <td>0.202</td>\n",
       "      <td>55.0</td>\n",
       "      <td>0.218</td>\n",
       "    </tr>\n",
       "    <tr>\n",
       "      <th>2</th>\n",
       "      <td>93.525</td>\n",
       "      <td>100.637</td>\n",
       "      <td>80.0</td>\n",
       "      <td>0.317</td>\n",
       "      <td>135.0</td>\n",
       "      <td>0.536</td>\n",
       "    </tr>\n",
       "    <tr>\n",
       "      <th>3</th>\n",
       "      <td>100.637</td>\n",
       "      <td>107.750</td>\n",
       "      <td>75.0</td>\n",
       "      <td>0.298</td>\n",
       "      <td>210.0</td>\n",
       "      <td>0.833</td>\n",
       "    </tr>\n",
       "    <tr>\n",
       "      <th>4</th>\n",
       "      <td>107.750</td>\n",
       "      <td>114.862</td>\n",
       "      <td>23.0</td>\n",
       "      <td>0.091</td>\n",
       "      <td>233.0</td>\n",
       "      <td>0.925</td>\n",
       "    </tr>\n",
       "    <tr>\n",
       "      <th>5</th>\n",
       "      <td>114.862</td>\n",
       "      <td>121.975</td>\n",
       "      <td>17.0</td>\n",
       "      <td>0.067</td>\n",
       "      <td>250.0</td>\n",
       "      <td>0.992</td>\n",
       "    </tr>\n",
       "    <tr>\n",
       "      <th>6</th>\n",
       "      <td>121.975</td>\n",
       "      <td>129.087</td>\n",
       "      <td>1.0</td>\n",
       "      <td>0.004</td>\n",
       "      <td>251.0</td>\n",
       "      <td>0.996</td>\n",
       "    </tr>\n",
       "    <tr>\n",
       "      <th>7</th>\n",
       "      <td>129.087</td>\n",
       "      <td>136.200</td>\n",
       "      <td>1.0</td>\n",
       "      <td>0.004</td>\n",
       "      <td>252.0</td>\n",
       "      <td>1.000</td>\n",
       "    </tr>\n",
       "  </tbody>\n",
       "</table>\n",
       "</div>"
      ],
      "text/plain": [
       "   Нижняя граница  Верхняя граница  Частота  Относит. частота  \\\n",
       "0          79.300           86.412      4.0             0.016   \n",
       "1          86.412           93.525     51.0             0.202   \n",
       "2          93.525          100.637     80.0             0.317   \n",
       "3         100.637          107.750     75.0             0.298   \n",
       "4         107.750          114.862     23.0             0.091   \n",
       "5         114.862          121.975     17.0             0.067   \n",
       "6         121.975          129.087      1.0             0.004   \n",
       "7         129.087          136.200      1.0             0.004   \n",
       "\n",
       "   Накопл. частота  Относит. накопл. частота  \n",
       "0              4.0                     0.016  \n",
       "1             55.0                     0.218  \n",
       "2            135.0                     0.536  \n",
       "3            210.0                     0.833  \n",
       "4            233.0                     0.925  \n",
       "5            250.0                     0.992  \n",
       "6            251.0                     0.996  \n",
       "7            252.0                     1.000  "
      ]
     },
     "execution_count": 174,
     "metadata": {},
     "output_type": "execute_result"
    }
   ],
   "source": [
    "B10 = data.loc[:, \"B10\"]\n",
    "bins = math.floor(math.log2(B10.count())) + 1\n",
    "hist, edges = np.histogram(B10, bins=bins)\n",
    "bin_length = (B10.max() - B10.min()) / bins\n",
    "n_1 = B10.count()\n",
    "print(f\"n: {n_1} bins: {bins} length: {bin_length}\")\n",
    "\n",
    "result = pd.DataFrame(columns=[\"Нижняя граница\",\\\n",
    "                                \"Верхняя граница\",\\\n",
    "                                \"Частота\",\\\n",
    "                                \"Относит. частота\",\\\n",
    "                                \"Накопл. частота\",\\\n",
    "                                \"Относит. накопл. частота\",]\\\n",
    ")\n",
    "\n",
    "sum = 0\n",
    "for i in range(hist.size):\n",
    "    left = edges[i]\n",
    "    right = edges[i + 1]\n",
    "    sum += hist[i]\n",
    "    result.loc[i]=[left, right, hist[i], hist[i] / n_1, sum, sum / n_1]\n",
    "\n",
    "result\n"
   ]
  },
  {
   "cell_type": "code",
   "execution_count": 175,
   "metadata": {},
   "outputs": [
    {
     "data": {
      "image/png": "[encoded data removed]",
      "text/plain": [
       "<Figure size 1200x400 with 2 Axes>"
      ]
     },
     "metadata": {},
     "output_type": "display_data"
    }
   ],
   "source": [
    "fig, ax = plt.subplots(1, 2)\n",
    "fig.set_size_inches(12, 4)\n",
    "\n",
    "ax[0].set_title(\"Гистограмма и полигон частот\")\n",
    "ax[0].stairs(hist, edges=edges, fill=True)\n",
    "ax[0].plot(np.concatenate(([edges[0] - bin_length], edges)) + bin_length / 2, np.concatenate(([0], hist, [0])), linestyle='--', marker='o')\n",
    "\n",
    "ax[1].set_title(\"Гистограмма и полигон относительных частот\")\n",
    "ax[1].stairs(hist / n_1, edges=edges, fill=True)\n",
    "_ = ax[1].plot(np.concatenate(([edges[0] - bin_length], edges)) + bin_length / 2, np.concatenate(([0], hist, [0])) / n_1, linestyle='--', marker='o')"
   ]
  },
  {
   "cell_type": "code",
   "execution_count": 176,
   "metadata": {},
   "outputs": [
    {
     "data": {
      "image/png": "[encoded data removed]",
      "text/plain": [
       "<Figure size 1200x400 with 2 Axes>"
      ]
     },
     "metadata": {},
     "output_type": "display_data"
    }
   ],
   "source": [
    "fig, ax = plt.subplots(1, 2)\n",
    "fig.set_size_inches(12, 4)\n",
    "\n",
    "ax[0].set_title(\"Гистограмма и полигон накопленных частот\")\n",
    "ax[0].stairs(result.loc[:, \"Накопл. частота\"], edges=edges, fill=True)\n",
    "ax[0].plot(edges, np.concatenate(([0], result.loc[:, \"Накопл. частота\"])), linestyle='--', marker='o')\n",
    "\n",
    "ax[1].set_title(\"Гистограмма и полигон накопленных относительных частот\")\n",
    "ax[1].stairs(result.loc[:, \"Накопл. частота\"] / n_1, edges=edges, fill=True)\n",
    "_ = ax[1].plot(edges, np.concatenate(([0], result.loc[:, \"Накопл. частота\"])) / n_1, linestyle='--', marker='o')"
   ]
  },
  {
   "cell_type": "code",
   "execution_count": 177,
   "metadata": {},
   "outputs": [
    {
     "data": {
      "image/png": "[encoded data removed]",
      "text/plain": [
       "<Figure size 640x480 with 1 Axes>"
      ]
     },
     "metadata": {},
     "output_type": "display_data"
    }
   ],
   "source": [
    "from statsmodels.distributions.empirical_distribution import ECDF\n",
    "\n",
    "ecdf = ECDF(B10)\n",
    "plt.plot(ecdf.x, ecdf.y)\n",
    "plt.title(\"ECDF\")\n",
    "plt.ylabel(r\"$F(x)$\")\n",
    "_ = plt.xlabel(r\"$x$\")"
   ]
  },
  {
   "attachments": {},
   "cell_type": "markdown",
   "metadata": {},
   "source": [
    "# Задание 2"
   ]
  },
  {
   "cell_type": "code",
   "execution_count": 178,
   "metadata": {},
   "outputs": [],
   "source": [
    "S_1 = B10.std()\n",
    "mean_1 = B10.mean() \n",
    "n_1 = B10.count()\n",
    "S2_1 = B10.var()\n",
    "alphas = [0.01, 0.05, 0.1]\n",
    "res = pd.DataFrame(columns=alphas, index=[\"Нижняя граница\", \"Верхняя граница\"])\n"
   ]
  },
  {
   "attachments": {},
   "cell_type": "markdown",
   "metadata": {},
   "source": [
    "доверительный интервал для $m$"
   ]
  },
  {
   "cell_type": "code",
   "execution_count": 179,
   "metadata": {},
   "outputs": [
    {
     "data": {
      "text/html": [
       "<div>\n",
       "<style scoped>\n",
       "    .dataframe tbody tr th:only-of-type {\n",
       "        vertical-align: middle;\n",
       "    }\n",
       "\n",
       "    .dataframe tbody tr th {\n",
       "        vertical-align: top;\n",
       "    }\n",
       "\n",
       "    .dataframe thead th {\n",
       "        text-align: right;\n",
       "    }\n",
       "</style>\n",
       "<table border=\"1\" class=\"dataframe\">\n",
       "  <thead>\n",
       "    <tr style=\"text-align: right;\">\n",
       "      <th></th>\n",
       "      <th>0.01</th>\n",
       "      <th>0.05</th>\n",
       "      <th>0.10</th>\n",
       "    </tr>\n",
       "  </thead>\n",
       "  <tbody>\n",
       "    <tr>\n",
       "      <th>Нижняя граница</th>\n",
       "      <td>99.446</td>\n",
       "      <td>99.778</td>\n",
       "      <td>99.947</td>\n",
       "    </tr>\n",
       "    <tr>\n",
       "      <th>Верхняя граница</th>\n",
       "      <td>102.203</td>\n",
       "      <td>101.87</td>\n",
       "      <td>101.701</td>\n",
       "    </tr>\n",
       "  </tbody>\n",
       "</table>\n",
       "</div>"
      ],
      "text/plain": [
       "                    0.01    0.05     0.10\n",
       "Нижняя граница    99.446  99.778   99.947\n",
       "Верхняя граница  102.203  101.87  101.701"
      ]
     },
     "execution_count": 179,
     "metadata": {},
     "output_type": "execute_result"
    }
   ],
   "source": [
    "t = stats.t(n_1 - 1)\n",
    "\n",
    "for alpha in alphas:\n",
    "    res.loc[\"Нижняя граница\", alpha] = mean_1 - t.ppf(1 - alpha / 2) * S_1/math.sqrt(n_1)\n",
    "    res.loc[\"Верхняя граница\", alpha] = mean_1 + t.ppf(1 - alpha / 2) * S_1/math.sqrt(n_1)\n",
    "    \n",
    "res"
   ]
  },
  {
   "attachments": {},
   "cell_type": "markdown",
   "metadata": {},
   "source": [
    "доверительный интервал для $\\sigma^2$"
   ]
  },
  {
   "cell_type": "code",
   "execution_count": 180,
   "metadata": {},
   "outputs": [
    {
     "data": {
      "text/html": [
       "<div>\n",
       "<style scoped>\n",
       "    .dataframe tbody tr th:only-of-type {\n",
       "        vertical-align: middle;\n",
       "    }\n",
       "\n",
       "    .dataframe tbody tr th {\n",
       "        vertical-align: top;\n",
       "    }\n",
       "\n",
       "    .dataframe thead th {\n",
       "        text-align: right;\n",
       "    }\n",
       "</style>\n",
       "<table border=\"1\" class=\"dataframe\">\n",
       "  <thead>\n",
       "    <tr style=\"text-align: right;\">\n",
       "      <th></th>\n",
       "      <th>0.01</th>\n",
       "      <th>0.05</th>\n",
       "      <th>0.10</th>\n",
       "    </tr>\n",
       "  </thead>\n",
       "  <tbody>\n",
       "    <tr>\n",
       "      <th>Нижняя граница</th>\n",
       "      <td>57.093</td>\n",
       "      <td>60.11</td>\n",
       "      <td>61.737</td>\n",
       "    </tr>\n",
       "    <tr>\n",
       "      <th>Верхняя граница</th>\n",
       "      <td>90.534</td>\n",
       "      <td>85.351</td>\n",
       "      <td>82.851</td>\n",
       "    </tr>\n",
       "  </tbody>\n",
       "</table>\n",
       "</div>"
      ],
      "text/plain": [
       "                   0.01    0.05    0.10\n",
       "Нижняя граница   57.093   60.11  61.737\n",
       "Верхняя граница  90.534  85.351  82.851"
      ]
     },
     "execution_count": 180,
     "metadata": {},
     "output_type": "execute_result"
    }
   ],
   "source": [
    "chi2 = stats.chi2(n_1 - 1)\n",
    "\n",
    "for alpha in alphas:\n",
    "    res.loc[\"Нижняя граница\", alpha] = (n_1 - 1)*S2_1/chi2.ppf(1 - alpha/2)\n",
    "    res.loc[\"Верхняя граница\", alpha] = (n_1 - 1)*S2_1/chi2.ppf(alpha/2)\n",
    "    \n",
    "res"
   ]
  },
  {
   "cell_type": "code",
   "execution_count": 181,
   "metadata": {},
   "outputs": [
    {
     "data": {
      "text/plain": [
       "252"
      ]
     },
     "execution_count": 181,
     "metadata": {},
     "output_type": "execute_result"
    }
   ],
   "source": [
    "B11 = data.loc[:, \"B11\"]\n",
    "mean_2 = B11.mean()\n",
    "S2_2 = B11.var()\n",
    "n_2 = B11.count()\n",
    "n_2"
   ]
  },
  {
   "attachments": {},
   "cell_type": "markdown",
   "metadata": {},
   "source": [
    "доверительный интервал для $m_1 - m_2$"
   ]
  },
  {
   "cell_type": "code",
   "execution_count": 182,
   "metadata": {},
   "outputs": [
    {
     "data": {
      "text/html": [
       "<div>\n",
       "<style scoped>\n",
       "    .dataframe tbody tr th:only-of-type {\n",
       "        vertical-align: middle;\n",
       "    }\n",
       "\n",
       "    .dataframe tbody tr th {\n",
       "        vertical-align: top;\n",
       "    }\n",
       "\n",
       "    .dataframe thead th {\n",
       "        text-align: right;\n",
       "    }\n",
       "</style>\n",
       "<table border=\"1\" class=\"dataframe\">\n",
       "  <thead>\n",
       "    <tr style=\"text-align: right;\">\n",
       "      <th></th>\n",
       "      <th>0.01</th>\n",
       "      <th>0.05</th>\n",
       "      <th>0.10</th>\n",
       "    </tr>\n",
       "  </thead>\n",
       "  <tbody>\n",
       "    <tr>\n",
       "      <th>Нижняя граница</th>\n",
       "      <td>6.039</td>\n",
       "      <td>6.574</td>\n",
       "      <td>6.847</td>\n",
       "    </tr>\n",
       "    <tr>\n",
       "      <th>Верхняя граница</th>\n",
       "      <td>10.498</td>\n",
       "      <td>9.962</td>\n",
       "      <td>9.689</td>\n",
       "    </tr>\n",
       "  </tbody>\n",
       "</table>\n",
       "</div>"
      ],
      "text/plain": [
       "                   0.01   0.05   0.10\n",
       "Нижняя граница    6.039  6.574  6.847\n",
       "Верхняя граница  10.498  9.962  9.689"
      ]
     },
     "execution_count": 182,
     "metadata": {},
     "output_type": "execute_result"
    }
   ],
   "source": [
    "S_p = math.sqrt(((n_1 - 1) * S2_1 + (n_2 - 1) * S2_2)/(n_1 + n_2 - 2))\n",
    "\n",
    "for alpha in alphas:\n",
    "    t = stats.t(n_1 + n_2 - 2)\n",
    "    F = max(S2_1, S2_2) / min(S2_1, S2_2)\n",
    "    var1 =  S_p if F <= t.ppf(alpha/2) else S2_1\n",
    "    var2 =  S_p if F <= t.ppf(alpha/2) else S2_2\n",
    "    \n",
    "    res.loc[\"Нижняя граница\", alpha] = (mean_1 - mean_2) + t.ppf(alpha / 2) * math.sqrt(var1/n_1 + var2/n_2) \n",
    "    res.loc[\"Верхняя граница\", alpha] = (mean_1 - mean_2) - t.ppf(alpha / 2) * math.sqrt(var1/n_1 + var2/n_2) \n",
    "    \n",
    "res"
   ]
  },
  {
   "cell_type": "code",
   "execution_count": 183,
   "metadata": {},
   "outputs": [
    {
     "data": {
      "text/html": [
       "<div>\n",
       "<style scoped>\n",
       "    .dataframe tbody tr th:only-of-type {\n",
       "        vertical-align: middle;\n",
       "    }\n",
       "\n",
       "    .dataframe tbody tr th {\n",
       "        vertical-align: top;\n",
       "    }\n",
       "\n",
       "    .dataframe thead th {\n",
       "        text-align: right;\n",
       "    }\n",
       "</style>\n",
       "<table border=\"1\" class=\"dataframe\">\n",
       "  <thead>\n",
       "    <tr style=\"text-align: right;\">\n",
       "      <th></th>\n",
       "      <th>0.01</th>\n",
       "      <th>0.05</th>\n",
       "      <th>0.10</th>\n",
       "    </tr>\n",
       "  </thead>\n",
       "  <tbody>\n",
       "    <tr>\n",
       "      <th>Нижняя граница</th>\n",
       "      <td>0.441</td>\n",
       "      <td>0.477</td>\n",
       "      <td>0.496</td>\n",
       "    </tr>\n",
       "    <tr>\n",
       "      <th>Верхняя граница</th>\n",
       "      <td>0.847</td>\n",
       "      <td>0.783</td>\n",
       "      <td>0.753</td>\n",
       "    </tr>\n",
       "  </tbody>\n",
       "</table>\n",
       "</div>"
      ],
      "text/plain": [
       "                  0.01   0.05   0.10\n",
       "Нижняя граница   0.441  0.477  0.496\n",
       "Верхняя граница  0.847  0.783  0.753"
      ]
     },
     "execution_count": 183,
     "metadata": {},
     "output_type": "execute_result"
    }
   ],
   "source": [
    "f = stats.f(n_2 - 1, n_1 - 1)\n",
    "\n",
    "for alpha in alphas:\n",
    "    res.loc[\"Нижняя граница\", alpha] = S2_1/S2_2*f.ppf(alpha/2)\n",
    "    res.loc[\"Верхняя граница\", alpha] = S2_1/S2_2*f.ppf(1 - alpha/2)\n",
    "    \n",
    "res"
   ]
  },
  {
   "attachments": {},
   "cell_type": "markdown",
   "metadata": {},
   "source": [
    "# Задание 3"
   ]
  },
  {
   "attachments": {},
   "cell_type": "markdown",
   "metadata": {},
   "source": [
    "## $H_0: m = m_0$"
   ]
  },
  {
   "cell_type": "code",
   "execution_count": 184,
   "metadata": {},
   "outputs": [
    {
     "data": {
      "text/plain": [
       "100.82420634920635"
      ]
     },
     "execution_count": 184,
     "metadata": {},
     "output_type": "execute_result"
    }
   ],
   "source": [
    "mean_1"
   ]
  },
  {
   "cell_type": "code",
   "execution_count": 185,
   "metadata": {},
   "outputs": [
    {
     "name": "stdout",
     "output_type": "stream",
     "text": [
      "TtestResult(statistic=0.007920516857234395, pvalue=0.9936866994893692, df=251)\n",
      "TtestResult(statistic=20.381880973058774, pvalue=3.818187153637991e-55, df=251)\n",
      "TtestResult(statistic=359.32022497641174, pvalue=0.0, df=251)\n"
     ]
    }
   ],
   "source": [
    "print(stats.ttest_1samp(B10, 100.82))\n",
    "print(stats.ttest_1samp(B10, 90))\n",
    "print(stats.ttest_1samp(B10, -90))"
   ]
  },
  {
   "attachments": {},
   "cell_type": "markdown",
   "metadata": {},
   "source": [
    "## $H_0: \\sigma^2 = \\sigma_0^2$"
   ]
  },
  {
   "cell_type": "code",
   "execution_count": 186,
   "metadata": {},
   "outputs": [
    {
     "data": {
      "text/plain": [
       "71.07291769430215"
      ]
     },
     "execution_count": 186,
     "metadata": {},
     "output_type": "execute_result"
    }
   ],
   "source": [
    "S2_1"
   ]
  },
  {
   "cell_type": "code",
   "execution_count": 187,
   "metadata": {},
   "outputs": [
    {
     "name": "stdout",
     "output_type": "stream",
     "text": [
      "8.426149773176359 (0.9973987901381749, 250.26072477412978)\n",
      "8.0 (0.23856700816784393, 277.6329915463002)\n",
      "7.0 (9.8985487899661e-06, 362.62268283598394)\n"
     ]
    }
   ],
   "source": [
    "def chi2test(x, sig0_squared):\n",
    "    statistic = (x.size - 1) * np.var(x) / sig0_squared\n",
    "    F = stats.chi2(x.size - 1).cdf(statistic)\n",
    "    pvalue = 2 * min(1 - F, F)\n",
    "    return pvalue, statistic\n",
    "\n",
    "print(math.sqrt(71), chi2test(B10, 71))\n",
    "print(math.sqrt(64), chi2test(B10, 64))\n",
    "print(math.sqrt(49), chi2test(B10, 49))"
   ]
  },
  {
   "attachments": {},
   "cell_type": "markdown",
   "metadata": {},
   "source": [
    "## $H_0: m_1 = m_2$"
   ]
  },
  {
   "cell_type": "code",
   "execution_count": 188,
   "metadata": {},
   "outputs": [
    {
     "name": "stdout",
     "output_type": "stream",
     "text": [
      "m1 = 100.82420634920635, m2 = 92.55595238095238\n"
     ]
    }
   ],
   "source": [
    "print(f\"m1 = {mean_1}, m2 = {mean_2}\")"
   ]
  },
  {
   "cell_type": "code",
   "execution_count": 189,
   "metadata": {},
   "outputs": [
    {
     "name": "stdout",
     "output_type": "stream",
     "text": [
      "Ttest_indResult(statistic=9.58936696228363, pvalue=5.0414514491253886e-20)\n"
     ]
    }
   ],
   "source": [
    "print(stats.ttest_ind(B10, B11, equal_var=False))"
   ]
  },
  {
   "attachments": {},
   "cell_type": "markdown",
   "metadata": {},
   "source": [
    "## $H_0: \\sigma_1 = \\sigma_2$"
   ]
  },
  {
   "cell_type": "code",
   "execution_count": 190,
   "metadata": {},
   "outputs": [
    {
     "name": "stdout",
     "output_type": "stream",
     "text": [
      "B10.var(): 70.79088230662634, B11.var(): 115.813337585034\n"
     ]
    }
   ],
   "source": [
    "print(f\"B10.var(): {B10.var(ddof=0)}, B11.var(): {B11.var(ddof=0)}\")"
   ]
  },
  {
   "cell_type": "code",
   "execution_count": 191,
   "metadata": {},
   "outputs": [
    {
     "name": "stdout",
     "output_type": "stream",
     "text": [
      "pvalue: 0.0001075403293077442, stat: 0.6112498247850713\n"
     ]
    }
   ],
   "source": [
    "Z = B10.var(ddof=0)/B11.var(ddof=0)\n",
    "F = stats.f(n_1 - 1, n_2 - 2).cdf(Z)\n",
    "pvalue = 2 * min(F, 1 - F)\n",
    "print(f\"pvalue: {pvalue}, stat: {Z}\")"
   ]
  },
  {
   "attachments": {},
   "cell_type": "markdown",
   "metadata": {},
   "source": [
    "# Задание 4"
   ]
  },
  {
   "attachments": {},
   "cell_type": "markdown",
   "metadata": {},
   "source": [
    "Тест хи квадрат"
   ]
  },
  {
   "cell_type": "code",
   "execution_count": 192,
   "metadata": {},
   "outputs": [],
   "source": [
    "exp_distr = stats.norm(mean_1, S_1)"
   ]
  },
  {
   "cell_type": "code",
   "execution_count": 193,
   "metadata": {},
   "outputs": [
    {
     "name": "stdout",
     "output_type": "stream",
     "text": [
      "27.83559299840404 0.000235496972924909\n",
      "[ 9.66256201 37.7030713  75.06295197 76.39608447 39.74982698 10.5542042\n",
      "  1.42527431  0.0974817 ]\n"
     ]
    },
    {
     "data": {
      "text/plain": [
       "[<matplotlib.lines.Line2D at 0x7fa5e43d34c0>]"
      ]
     },
     "execution_count": 193,
     "metadata": {},
     "output_type": "execute_result"
    },
    {
     "data": {
      "image/png": "[encoded data removed]",
      "text/plain": [
       "<Figure size 640x480 with 1 Axes>"
      ]
     },
     "metadata": {},
     "output_type": "display_data"
    }
   ],
   "source": [
    "from dataclasses import dataclass\n",
    "\n",
    "def freqs_from_cdf(cdf, size, bin_num, begin, end):\n",
    "    bin_size = abs(end - begin) / bin_num\n",
    "    freqs = np.array([], dtype=float)\n",
    "    for x in np.linspace(begin, end, bin_num, endpoint=False):\n",
    "        freqs = np.append(freqs, (cdf(x + bin_size) - cdf(x)) * size)\n",
    "    return freqs\n",
    "\n",
    "def merge_by_indices(hist, bins_to_merge):\n",
    "    bins_to_merge_new = np.copy(bins_to_merge)\n",
    "    new_hist = np.copy(hist)\n",
    "    \n",
    "    for indices in bins_to_merge_new:\n",
    "        new_hist = np.insert(new_hist, indices[0], new_hist[indices[0]:indices[1]].sum())\n",
    "        new_hist = np.delete(new_hist, range(indices[0] + 1, indices[1] + 1))\n",
    "        bins_to_merge_new -= (indices[1] - indices[0]) - 1 \n",
    "        \n",
    "    return new_hist\n",
    "    \n",
    "def merge_lower_than_threshold(hist, threshold, max_merges=3):\n",
    "    bins_to_merge = np.empty((0, 2), dtype=int)\n",
    "    count = 0\n",
    "    for i in range(hist.size):\n",
    "        if hist[i] < threshold and count < max_merges:\n",
    "            count += 1\n",
    "        elif hist[i] >= count != 0:\n",
    "            bins_to_merge = np.vstack((bins_to_merge, [i - count, i]))\n",
    "            count = 0\n",
    "    \n",
    "    if count != 0:\n",
    "        bins_to_merge = np.vstack((bins_to_merge, [hist.size - count, hist.size]))\n",
    "\n",
    "    \n",
    "    return merge_by_indices(hist, bins_to_merge), bins_to_merge\n",
    "\n",
    "@dataclass\n",
    "class ChisquareResult:\n",
    "    stat: float\n",
    "    pvalue: float\n",
    "    hist1: np.ndarray\n",
    "    hist2: np.ndarray\n",
    "\n",
    "def chisquare(sample, exp_cdf, bin_num, ddof=0, merge_threshold=3, max_merges=4, begin=None, end=None):\n",
    "    if begin is None:\n",
    "        begin = sample.min()\n",
    "    \n",
    "    if end is None:\n",
    "        end = sample.max()\n",
    "    \n",
    "    sample = sample[(sample >= begin) & (sample <= end)]\n",
    "    \n",
    "    samp_hist, _ = np.histogram(sample, bins=bin_num)\n",
    "    samp_hist, bins_to_merge = merge_lower_than_threshold(samp_hist, merge_threshold, max_merges)\n",
    "    \n",
    "    exp_hist = freqs_from_cdf(exp_cdf, sample.size, bin_num, begin, end)\n",
    "    exp_hist = merge_by_indices(exp_hist, bins_to_merge)\n",
    "    \n",
    "    stat = 0\n",
    "    for i in range(exp_hist.size):\n",
    "        stat += (samp_hist[i] - exp_hist[i])**2 / exp_hist[i]\n",
    "    pvalue = 1 - stats.chi2(exp_hist.size - ddof - 1).cdf(stat)\n",
    "    \n",
    "    return ChisquareResult(stat, pvalue, samp_hist, exp_hist)\n",
    "\n",
    "res = chisquare(B10, exp_distr.cdf, bin_num=bins, merge_threshold=0)\n",
    "print(res.stat, res.pvalue)\n",
    "print(res.hist2)\n",
    "\n",
    "x = np.linspace(B10.min(), B10.max(), 500)\n",
    "plt.hist(B10, bins=bins, density=True, rwidth=0.95)\n",
    "plt.plot(x, exp_distr.pdf(x))"
   ]
  },
  {
   "attachments": {},
   "cell_type": "markdown",
   "metadata": {},
   "source": [
    "критерий Харке-Бера"
   ]
  },
  {
   "cell_type": "code",
   "execution_count": 194,
   "metadata": {},
   "outputs": [
    {
     "data": {
      "text/plain": [
       "SignificanceResult(statistic=28.636453835739097, pvalue=6.048853397994733e-07)"
      ]
     },
     "execution_count": 194,
     "metadata": {},
     "output_type": "execute_result"
    }
   ],
   "source": [
    "stats.jarque_bera(B10)"
   ]
  },
  {
   "attachments": {},
   "cell_type": "markdown",
   "metadata": {},
   "source": [
    "# Задание 5"
   ]
  },
  {
   "attachments": {},
   "cell_type": "markdown",
   "metadata": {},
   "source": [
    "критерий знаков"
   ]
  },
  {
   "cell_type": "code",
   "execution_count": 195,
   "metadata": {},
   "outputs": [
    {
     "name": "stdout",
     "output_type": "stream",
     "text": [
      "14.833068472798375 1.3342014548306503e-48\n"
     ]
    }
   ],
   "source": [
    "diff = B10 - B11\n",
    "n = diff[diff != 0].size\n",
    "stat = ((diff)[diff > 0].size - n / 2)  / (math.sqrt(n) / 2)\n",
    "F = stats.norm(0, 1).pdf(stat)\n",
    "pvalue = 2 * min(F, 1 - F)\n",
    "print(stat, pvalue)"
   ]
  },
  {
   "attachments": {},
   "cell_type": "markdown",
   "metadata": {},
   "source": [
    "хи-квадрат"
   ]
  },
  {
   "cell_type": "code",
   "execution_count": 196,
   "metadata": {},
   "outputs": [
    {
     "name": "stdout",
     "output_type": "stream",
     "text": [
      "(99.23702426032767, 0.0)\n"
     ]
    }
   ],
   "source": [
    "def chisquare_2samp(sample1 : np.ndarray, sample2 : np.ndarray, bins=10):\n",
    "    edges = np.linspace(min(sample1.min(), sample2.min()), max(sample1.max(), sample2.max()), bins + 1)\n",
    "    hist1, _ = np.histogram(sample1, bins=edges)\n",
    "    hist2, _ = np.histogram(sample2, bins=edges)\n",
    "\n",
    "    stat = 0 \n",
    "    for i in range(hist1.size):\n",
    "        stat += 1/(hist1[i] + hist2[i])*(hist1[i]/sample1.size - hist2[i]/sample2.size)**2\n",
    "    \n",
    "    stat *= sample1.size*sample2.size\n",
    "    \n",
    "    pvalue = 1 - stats.chi2(hist1.size - 1).cdf(stat)\n",
    "    \n",
    "    return stat, pvalue\n",
    "\n",
    "print(chisquare_2samp(B10, B11, bins=bins))"
   ]
  },
  {
   "cell_type": "code",
   "execution_count": 197,
   "metadata": {},
   "outputs": [
    {
     "data": {
      "text/html": [
       "<div>\n",
       "<style scoped>\n",
       "    .dataframe tbody tr th:only-of-type {\n",
       "        vertical-align: middle;\n",
       "    }\n",
       "\n",
       "    .dataframe tbody tr th {\n",
       "        vertical-align: top;\n",
       "    }\n",
       "\n",
       "    .dataframe thead th {\n",
       "        text-align: right;\n",
       "    }\n",
       "</style>\n",
       "<table border=\"1\" class=\"dataframe\">\n",
       "  <thead>\n",
       "    <tr style=\"text-align: right;\">\n",
       "      <th></th>\n",
       "      <th>Нижняя граница</th>\n",
       "      <th>Верхняя граница</th>\n",
       "      <th>Частота признака 1</th>\n",
       "      <th>Частота признака 2</th>\n",
       "      <th>Относит. частота признака 1</th>\n",
       "      <th>Относит. частота признака 2</th>\n",
       "    </tr>\n",
       "  </thead>\n",
       "  <tbody>\n",
       "    <tr>\n",
       "      <th>0</th>\n",
       "      <td>69.4</td>\n",
       "      <td>79.238</td>\n",
       "      <td>0</td>\n",
       "      <td>23</td>\n",
       "      <td>0.0</td>\n",
       "      <td>0.091</td>\n",
       "    </tr>\n",
       "    <tr>\n",
       "      <th>1</th>\n",
       "      <td>79.238</td>\n",
       "      <td>89.075</td>\n",
       "      <td>13</td>\n",
       "      <td>77</td>\n",
       "      <td>0.052</td>\n",
       "      <td>0.306</td>\n",
       "    </tr>\n",
       "    <tr>\n",
       "      <th>2</th>\n",
       "      <td>89.075</td>\n",
       "      <td>98.912</td>\n",
       "      <td>98</td>\n",
       "      <td>86</td>\n",
       "      <td>0.389</td>\n",
       "      <td>0.341</td>\n",
       "    </tr>\n",
       "    <tr>\n",
       "      <th>3</th>\n",
       "      <td>98.912</td>\n",
       "      <td>108.75</td>\n",
       "      <td>105</td>\n",
       "      <td>48</td>\n",
       "      <td>0.417</td>\n",
       "      <td>0.19</td>\n",
       "    </tr>\n",
       "    <tr>\n",
       "      <th>4</th>\n",
       "      <td>108.75</td>\n",
       "      <td>118.588</td>\n",
       "      <td>28</td>\n",
       "      <td>15</td>\n",
       "      <td>0.111</td>\n",
       "      <td>0.06</td>\n",
       "    </tr>\n",
       "    <tr>\n",
       "      <th>5</th>\n",
       "      <td>118.588</td>\n",
       "      <td>128.425</td>\n",
       "      <td>7</td>\n",
       "      <td>2</td>\n",
       "      <td>0.028</td>\n",
       "      <td>0.008</td>\n",
       "    </tr>\n",
       "    <tr>\n",
       "      <th>6</th>\n",
       "      <td>128.425</td>\n",
       "      <td>138.262</td>\n",
       "      <td>1</td>\n",
       "      <td>0</td>\n",
       "      <td>0.004</td>\n",
       "      <td>0.0</td>\n",
       "    </tr>\n",
       "    <tr>\n",
       "      <th>7</th>\n",
       "      <td>138.262</td>\n",
       "      <td>148.1</td>\n",
       "      <td>0</td>\n",
       "      <td>1</td>\n",
       "      <td>0.0</td>\n",
       "      <td>0.004</td>\n",
       "    </tr>\n",
       "  </tbody>\n",
       "</table>\n",
       "</div>"
      ],
      "text/plain": [
       "  Нижняя граница Верхняя граница Частота признака 1 Частота признака 2  \\\n",
       "0           69.4          79.238                  0                 23   \n",
       "1         79.238          89.075                 13                 77   \n",
       "2         89.075          98.912                 98                 86   \n",
       "3         98.912          108.75                105                 48   \n",
       "4         108.75         118.588                 28                 15   \n",
       "5        118.588         128.425                  7                  2   \n",
       "6        128.425         138.262                  1                  0   \n",
       "7        138.262           148.1                  0                  1   \n",
       "\n",
       "  Относит. частота признака 1 Относит. частота признака 2  \n",
       "0                         0.0                       0.091  \n",
       "1                       0.052                       0.306  \n",
       "2                       0.389                       0.341  \n",
       "3                       0.417                        0.19  \n",
       "4                       0.111                        0.06  \n",
       "5                       0.028                       0.008  \n",
       "6                       0.004                         0.0  \n",
       "7                         0.0                       0.004  "
      ]
     },
     "metadata": {},
     "output_type": "display_data"
    }
   ],
   "source": [
    "edges = np.linspace(min(B10.min(), B11.min()), max(B10.max(), B11.max()), bins + 1)\n",
    "hist1, _ = np.histogram(B10, bins=edges)\n",
    "hist2, _ = np.histogram(B11, bins=edges)\n",
    "res = pd.DataFrame(columns=[\"Нижняя граница\", \"Верхняя граница\", \"Частота признака 1\", \"Частота признака 2\", \"Относит. частота признака 1\", \"Относит. частота признака 2\"])\n",
    "for i in range(hist1.size):\n",
    "    left = edges[i]\n",
    "    right = edges[i + 1]\n",
    "    res.loc[i, :] = [left, right, hist1[i], hist2[i], hist1[i] / n_1, hist2[i] / n_2]\n",
    "\n",
    "display(res)"
   ]
  },
  {
   "cell_type": "code",
   "execution_count": 198,
   "metadata": {},
   "outputs": [
    {
     "data": {
      "image/png": "[encoded data removed]",
      "text/plain": [
       "<Figure size 640x480 with 1 Axes>"
      ]
     },
     "metadata": {},
     "output_type": "display_data"
    }
   ],
   "source": [
    "plt.stairs(hist1 / n_1, edges, label=\"B10\", fill=True, alpha=0.5)\n",
    "plt.stairs(hist2 / n_2, edges, label=\"B11\", fill=True, alpha=0.5)\n",
    "_ = plt.legend()"
   ]
  },
  {
   "attachments": {},
   "cell_type": "markdown",
   "metadata": {},
   "source": [
    "# Задание 6"
   ]
  },
  {
   "cell_type": "code",
   "execution_count": 199,
   "metadata": {},
   "outputs": [
    {
     "data": {
      "text/html": [
       "<div>\n",
       "<style scoped>\n",
       "    .dataframe tbody tr th:only-of-type {\n",
       "        vertical-align: middle;\n",
       "    }\n",
       "\n",
       "    .dataframe tbody tr th {\n",
       "        vertical-align: top;\n",
       "    }\n",
       "\n",
       "    .dataframe thead th {\n",
       "        text-align: right;\n",
       "    }\n",
       "</style>\n",
       "<table border=\"1\" class=\"dataframe\">\n",
       "  <thead>\n",
       "    <tr style=\"text-align: right;\">\n",
       "      <th></th>\n",
       "      <th>y1</th>\n",
       "      <th>y2</th>\n",
       "      <th>y3</th>\n",
       "      <th>Total</th>\n",
       "    </tr>\n",
       "  </thead>\n",
       "  <tbody>\n",
       "    <tr>\n",
       "      <th>x0</th>\n",
       "      <td>22</td>\n",
       "      <td>18</td>\n",
       "      <td>16</td>\n",
       "      <td>56</td>\n",
       "    </tr>\n",
       "    <tr>\n",
       "      <th>x1</th>\n",
       "      <td>39</td>\n",
       "      <td>26</td>\n",
       "      <td>8</td>\n",
       "      <td>73</td>\n",
       "    </tr>\n",
       "    <tr>\n",
       "      <th>x2</th>\n",
       "      <td>20</td>\n",
       "      <td>17</td>\n",
       "      <td>4</td>\n",
       "      <td>41</td>\n",
       "    </tr>\n",
       "    <tr>\n",
       "      <th>x3</th>\n",
       "      <td>39</td>\n",
       "      <td>32</td>\n",
       "      <td>11</td>\n",
       "      <td>82</td>\n",
       "    </tr>\n",
       "    <tr>\n",
       "      <th>Total</th>\n",
       "      <td>120</td>\n",
       "      <td>93</td>\n",
       "      <td>39</td>\n",
       "      <td>252</td>\n",
       "    </tr>\n",
       "  </tbody>\n",
       "</table>\n",
       "</div>"
      ],
      "text/plain": [
       "        y1  y2  y3  Total\n",
       "x0      22  18  16     56\n",
       "x1      39  26   8     73\n",
       "x2      20  17   4     41\n",
       "x3      39  32  11     82\n",
       "Total  120  93  39    252"
      ]
     },
     "metadata": {},
     "output_type": "display_data"
    },
    {
     "data": {
      "text/html": [
       "<div>\n",
       "<style scoped>\n",
       "    .dataframe tbody tr th:only-of-type {\n",
       "        vertical-align: middle;\n",
       "    }\n",
       "\n",
       "    .dataframe tbody tr th {\n",
       "        vertical-align: top;\n",
       "    }\n",
       "\n",
       "    .dataframe thead th {\n",
       "        text-align: right;\n",
       "    }\n",
       "</style>\n",
       "<table border=\"1\" class=\"dataframe\">\n",
       "  <thead>\n",
       "    <tr style=\"text-align: right;\">\n",
       "      <th></th>\n",
       "      <th>y1</th>\n",
       "      <th>y2</th>\n",
       "      <th>y3</th>\n",
       "      <th>Total</th>\n",
       "    </tr>\n",
       "  </thead>\n",
       "  <tbody>\n",
       "    <tr>\n",
       "      <th>x0</th>\n",
       "      <td>26.667</td>\n",
       "      <td>20.667</td>\n",
       "      <td>8.667</td>\n",
       "      <td>56.0</td>\n",
       "    </tr>\n",
       "    <tr>\n",
       "      <th>x1</th>\n",
       "      <td>34.762</td>\n",
       "      <td>26.940</td>\n",
       "      <td>11.298</td>\n",
       "      <td>73.0</td>\n",
       "    </tr>\n",
       "    <tr>\n",
       "      <th>x2</th>\n",
       "      <td>19.524</td>\n",
       "      <td>15.131</td>\n",
       "      <td>6.345</td>\n",
       "      <td>41.0</td>\n",
       "    </tr>\n",
       "    <tr>\n",
       "      <th>x3</th>\n",
       "      <td>39.048</td>\n",
       "      <td>30.262</td>\n",
       "      <td>12.690</td>\n",
       "      <td>82.0</td>\n",
       "    </tr>\n",
       "    <tr>\n",
       "      <th>Total</th>\n",
       "      <td>120.000</td>\n",
       "      <td>93.000</td>\n",
       "      <td>39.000</td>\n",
       "      <td>252.0</td>\n",
       "    </tr>\n",
       "  </tbody>\n",
       "</table>\n",
       "</div>"
      ],
      "text/plain": [
       "            y1      y2      y3  Total\n",
       "x0      26.667  20.667   8.667   56.0\n",
       "x1      34.762  26.940  11.298   73.0\n",
       "x2      19.524  15.131   6.345   41.0\n",
       "x3      39.048  30.262  12.690   82.0\n",
       "Total  120.000  93.000  39.000  252.0"
      ]
     },
     "metadata": {},
     "output_type": "display_data"
    },
    {
     "data": {
      "text/plain": [
       "Chi2ContingencyResult(statistic=10.312314424310157, pvalue=0.1121010508845372, dof=6, expected_freq=array([[26.66666667, 20.66666667,  8.66666667],\n",
       "       [34.76190476, 26.94047619, 11.29761905],\n",
       "       [19.52380952, 15.13095238,  6.3452381 ],\n",
       "       [39.04761905, 30.26190476, 12.69047619]]))"
      ]
     },
     "metadata": {},
     "output_type": "display_data"
    }
   ],
   "source": [
    "group_names = data.B6.unique()\n",
    "samp_freqs = np.asarray([data.loc[data.B6 == group_name].B3.value_counts().to_numpy() for group_name in group_names])\n",
    "res = stats.contingency.chi2_contingency(samp_freqs, correction=False)\n",
    "\n",
    "samp_table = pd.DataFrame(data=samp_freqs, index=[f\"x{i}\" for i in range(samp_freqs.shape[0])], columns=[f\"y{i + 1}\" for i in range(samp_freqs.shape[1])])\n",
    "samp_table.loc[\"Total\"] = samp_table.sum()\n",
    "samp_table.loc[:, \"Total\"] = samp_table.sum(axis=1)\n",
    "\n",
    "exp_table = pd.DataFrame(data=res.expected_freq, index=[f\"x{i}\" for i in range(res.expected_freq.shape[0])], columns=[f\"y{i + 1}\" for i in range(res.expected_freq.shape[1])])\n",
    "exp_table.loc[\"Total\"] = exp_table.sum()\n",
    "exp_table.loc[:, \"Total\"] = exp_table.sum(axis=1)\n",
    "\n",
    "display(samp_table, exp_table, res)"
   ]
  },
  {
   "attachments": {},
   "cell_type": "markdown",
   "metadata": {},
   "source": [
    "# Задание 7"
   ]
  },
  {
   "cell_type": "code",
   "execution_count": 200,
   "metadata": {},
   "outputs": [
    {
     "name": "stdout",
     "output_type": "stream",
     "text": [
      "\t\tvar_bg: 6.255, var_wg: 854.040, var_pooled: 860.295, var_bg + var_wg: 860.295\n",
      "unbiased\tvar_bg: 525.399, var_wg: 867.815, var_pooled: 863.723, var_bg + var_wg: 1393.215\n",
      "det_coef^2: 0.007, det_coef: 0.086\n"
     ]
    }
   ],
   "source": [
    "pooled_mean = data.B7.mean()\n",
    "groups = [data.loc[name == data.B6].B7.to_numpy() for name in group_names]\n",
    "\n",
    "var_bg = 0\n",
    "for sample in groups:\n",
    "    var_bg += sample.size * (sample.mean() - pooled_mean)**2\n",
    "var_bg /= data.B7.size\n",
    "\n",
    "var_wg = 0\n",
    "for sample in groups:\n",
    "    var_wg += sample.size * sample.var()\n",
    "var_wg /= data.B7.size\n",
    "\n",
    "unbiased_var_bg = data.B7.size / (len(groups) - 1) * var_bg\n",
    "unbiased_var_wg = data.B7.size / (data.B7.size - len(groups)) * var_wg\n",
    "unbiased_var_pooled = np.var(data.B7, ddof=1)\n",
    "\n",
    "print(f\"\\t\\tvar_bg: {var_bg:.3f}, var_wg: {var_wg:.3f}, var_pooled: {data.B7.var(ddof=0):.3f}, var_bg + var_wg: {var_bg + var_wg:.3f}\")\n",
    "print(f\"unbiased\\tvar_bg: {unbiased_var_bg:.3f}, var_wg: {unbiased_var_wg:.3f}, var_pooled: {unbiased_var_pooled:.3f}, var_bg + var_wg: {unbiased_var_bg + unbiased_var_wg:.3f}\")\n",
    "print(f\"det_coef^2: {var_bg/var_wg:.3f}, det_coef: {(var_bg/var_wg)**(1/2):.3f}\")"
   ]
  },
  {
   "cell_type": "code",
   "execution_count": 201,
   "metadata": {},
   "outputs": [
    {
     "data": {
      "text/plain": [
       "F_onewayResult(statistic=0.6054274553759238, pvalue=0.6120441527227956)"
      ]
     },
     "execution_count": 201,
     "metadata": {},
     "output_type": "execute_result"
    }
   ],
   "source": [
    "stats.f_oneway(*groups)"
   ]
  },
  {
   "cell_type": "code",
   "execution_count": 202,
   "metadata": {},
   "outputs": [
    {
     "data": {
      "text/html": [
       "<div>\n",
       "<style scoped>\n",
       "    .dataframe tbody tr th:only-of-type {\n",
       "        vertical-align: middle;\n",
       "    }\n",
       "\n",
       "    .dataframe tbody tr th {\n",
       "        vertical-align: top;\n",
       "    }\n",
       "\n",
       "    .dataframe thead th {\n",
       "        text-align: right;\n",
       "    }\n",
       "</style>\n",
       "<table border=\"1\" class=\"dataframe\">\n",
       "  <thead>\n",
       "    <tr style=\"text-align: right;\">\n",
       "      <th></th>\n",
       "      <th>group name</th>\n",
       "      <th>size</th>\n",
       "      <th>mean</th>\n",
       "      <th>var</th>\n",
       "    </tr>\n",
       "  </thead>\n",
       "  <tbody>\n",
       "    <tr>\n",
       "      <th>0</th>\n",
       "      <td>Somerville</td>\n",
       "      <td>56</td>\n",
       "      <td>180.083</td>\n",
       "      <td>1551.534</td>\n",
       "    </tr>\n",
       "    <tr>\n",
       "      <th>1</th>\n",
       "      <td>Arlington</td>\n",
       "      <td>73</td>\n",
       "      <td>175.038</td>\n",
       "      <td>336.167</td>\n",
       "    </tr>\n",
       "    <tr>\n",
       "      <th>2</th>\n",
       "      <td>Norwood</td>\n",
       "      <td>41</td>\n",
       "      <td>181.083</td>\n",
       "      <td>687.370</td>\n",
       "    </tr>\n",
       "    <tr>\n",
       "      <th>3</th>\n",
       "      <td>Revere</td>\n",
       "      <td>82</td>\n",
       "      <td>180.514</td>\n",
       "      <td>922.072</td>\n",
       "    </tr>\n",
       "  </tbody>\n",
       "</table>\n",
       "</div>"
      ],
      "text/plain": [
       "   group name  size     mean       var\n",
       "0  Somerville    56  180.083  1551.534\n",
       "1   Arlington    73  175.038   336.167\n",
       "2     Norwood    41  181.083   687.370\n",
       "3      Revere    82  180.514   922.072"
      ]
     },
     "execution_count": 202,
     "metadata": {},
     "output_type": "execute_result"
    }
   ],
   "source": [
    "pd.DataFrame([[group_names[i], groups[i].size, groups[i].mean(), groups[i].var()] for i in range(len(group_names))], \\\n",
    "    columns=['group name', 'size', 'mean', 'var'])"
   ]
  },
  {
   "attachments": {},
   "cell_type": "markdown",
   "metadata": {},
   "source": [
    "# Задание 8"
   ]
  },
  {
   "attachments": {},
   "cell_type": "markdown",
   "metadata": {},
   "source": [
    "## 8.1"
   ]
  },
  {
   "cell_type": "code",
   "execution_count": 203,
   "metadata": {},
   "outputs": [
    {
     "name": "stdout",
     "output_type": "stream",
     "text": [
      "pearsonr: PearsonRResult(statistic=0.915827669854678, pvalue=4.7986071277866056e-101),\n",
      " spearmanr: SignificanceResult(statistic=0.8952563412689127, pvalue=9.432456663616328e-90),\n",
      " kendalltau: SignificanceResult(statistic=0.7243113600801906, pvalue=2.2625919542765998e-65)\n"
     ]
    }
   ],
   "source": [
    "rho = stats.pearsonr(B10, B11)\n",
    "r = stats.spearmanr(B10, B11)\n",
    "tau = stats.kendalltau(B10, B11)\n",
    "n = B10.size\n",
    "\n",
    "print(f'pearsonr: {rho},\\n spearmanr: {r},\\n kendalltau: {tau}')"
   ]
  },
  {
   "cell_type": "code",
   "execution_count": 204,
   "metadata": {},
   "outputs": [
    {
     "name": "stdout",
     "output_type": "stream",
     "text": [
      "0.885197, 0.938552\n",
      "0.893357, 0.933729\n",
      "0.897318, 0.931122\n"
     ]
    }
   ],
   "source": [
    "print(f'{rho.confidence_interval(1 - 0.01)[0]:.6f}, {rho.confidence_interval(1 - 0.01)[1]:.6f}')\n",
    "print(f'{rho.confidence_interval(1 - 0.05)[0]:.6f}, {rho.confidence_interval(1 - 0.05)[1]:.6f}')\n",
    "print(f'{rho.confidence_interval(1 - 0.1)[0]:.6f}, {rho.confidence_interval(1 - 0.1)[1]:.6f}')"
   ]
  },
  {
   "cell_type": "code",
   "execution_count": 205,
   "metadata": {},
   "outputs": [
    {
     "name": "stdout",
     "output_type": "stream",
     "text": [
      "36.05959705174222 0.0\n"
     ]
    }
   ],
   "source": [
    "stat = rho[0] * math.sqrt(n - 2) / math.sqrt(1 - rho[0]**2)\n",
    "F = stats.t(n - 2).cdf(stat)\n",
    "pvalue = 2 * min(F, 1 - F)\n",
    "print(stat, pvalue)"
   ]
  },
  {
   "cell_type": "code",
   "execution_count": 206,
   "metadata": {},
   "outputs": [
    {
     "name": "stdout",
     "output_type": "stream",
     "text": [
      "31.77017163599281 0.0\n"
     ]
    }
   ],
   "source": [
    "stat = r[0] * math.sqrt(n - 2) / math.sqrt(1 - r[0]**2)\n",
    "F = stats.t(n - 2).cdf(stat)\n",
    "pvalue = 2 * min(F, 1 - F)\n",
    "print(stat, pvalue)"
   ]
  },
  {
   "cell_type": "code",
   "execution_count": 207,
   "metadata": {},
   "outputs": [
    {
     "name": "stdout",
     "output_type": "stream",
     "text": [
      "8752.880026655592 0.0\n"
     ]
    }
   ],
   "source": [
    "stat = tau[0] * math.sqrt((9*n*(n+1))/2*(2*n+5))\n",
    "F = stats.norm(0, 1).cdf(stat)\n",
    "pvalue = 2 * min(F, 1 - F)\n",
    "print(stat, pvalue)"
   ]
  },
  {
   "attachments": {},
   "cell_type": "markdown",
   "metadata": {},
   "source": [
    "## 8.2"
   ]
  },
  {
   "cell_type": "code",
   "execution_count": 208,
   "metadata": {},
   "outputs": [],
   "source": [
    "samp_names = ['B10', 'B11', 'B12']\n",
    "samples = [data[samp_name].to_numpy() for samp_name in samp_names]"
   ]
  },
  {
   "cell_type": "code",
   "execution_count": 209,
   "metadata": {},
   "outputs": [
    {
     "data": {
      "text/html": [
       "<div>\n",
       "<style scoped>\n",
       "    .dataframe tbody tr th:only-of-type {\n",
       "        vertical-align: middle;\n",
       "    }\n",
       "\n",
       "    .dataframe tbody tr th {\n",
       "        vertical-align: top;\n",
       "    }\n",
       "\n",
       "    .dataframe thead th {\n",
       "        text-align: right;\n",
       "    }\n",
       "</style>\n",
       "<table border=\"1\" class=\"dataframe\">\n",
       "  <thead>\n",
       "    <tr style=\"text-align: right;\">\n",
       "      <th></th>\n",
       "      <th>B10</th>\n",
       "      <th>B11</th>\n",
       "      <th>B12</th>\n",
       "    </tr>\n",
       "  </thead>\n",
       "  <tbody>\n",
       "    <tr>\n",
       "      <th>B10</th>\n",
       "      <td>1.000</td>\n",
       "      <td>0.724</td>\n",
       "      <td>0.624</td>\n",
       "    </tr>\n",
       "    <tr>\n",
       "      <th>B11</th>\n",
       "      <td>0.724</td>\n",
       "      <td>1.000</td>\n",
       "      <td>0.662</td>\n",
       "    </tr>\n",
       "    <tr>\n",
       "      <th>B12</th>\n",
       "      <td>0.624</td>\n",
       "      <td>0.662</td>\n",
       "      <td>1.000</td>\n",
       "    </tr>\n",
       "  </tbody>\n",
       "</table>\n",
       "</div>"
      ],
      "text/plain": [
       "       B10    B11    B12\n",
       "B10  1.000  0.724  0.624\n",
       "B11  0.724  1.000  0.662\n",
       "B12  0.624  0.662  1.000"
      ]
     },
     "execution_count": 209,
     "metadata": {},
     "output_type": "execute_result"
    }
   ],
   "source": [
    "kendall_coeffs = [[stats.kendalltau(samp1, samp2).statistic for samp2 in samples] for samp1 in samples]\n",
    "pd.DataFrame(kendall_coeffs, columns=samp_names, index=samp_names)"
   ]
  },
  {
   "cell_type": "code",
   "execution_count": 210,
   "metadata": {},
   "outputs": [
    {
     "data": {
      "text/html": [
       "<div>\n",
       "<style scoped>\n",
       "    .dataframe tbody tr th:only-of-type {\n",
       "        vertical-align: middle;\n",
       "    }\n",
       "\n",
       "    .dataframe tbody tr th {\n",
       "        vertical-align: top;\n",
       "    }\n",
       "\n",
       "    .dataframe thead th {\n",
       "        text-align: right;\n",
       "    }\n",
       "</style>\n",
       "<table border=\"1\" class=\"dataframe\">\n",
       "  <thead>\n",
       "    <tr style=\"text-align: right;\">\n",
       "      <th></th>\n",
       "      <th>B10</th>\n",
       "      <th>B11</th>\n",
       "      <th>B12</th>\n",
       "    </tr>\n",
       "  </thead>\n",
       "  <tbody>\n",
       "    <tr>\n",
       "      <th>B10</th>\n",
       "      <td>8.839e-123</td>\n",
       "      <td>2.263e-65</td>\n",
       "      <td>6.355e-49</td>\n",
       "    </tr>\n",
       "    <tr>\n",
       "      <th>B11</th>\n",
       "      <td>2.263e-65</td>\n",
       "      <td>5.562e-123</td>\n",
       "      <td>8.527e-55</td>\n",
       "    </tr>\n",
       "    <tr>\n",
       "      <th>B12</th>\n",
       "      <td>6.355e-49</td>\n",
       "      <td>8.527e-55</td>\n",
       "      <td>1.812e-122</td>\n",
       "    </tr>\n",
       "  </tbody>\n",
       "</table>\n",
       "</div>"
      ],
      "text/plain": [
       "            B10         B11         B12\n",
       "B10  8.839e-123   2.263e-65   6.355e-49\n",
       "B11   2.263e-65  5.562e-123   8.527e-55\n",
       "B12   6.355e-49   8.527e-55  1.812e-122"
      ]
     },
     "execution_count": 210,
     "metadata": {},
     "output_type": "execute_result"
    }
   ],
   "source": [
    "kendall_coeffs = [[stats.kendalltau(samp1, samp2).pvalue for samp2 in samples] for samp1 in samples]\n",
    "pd.DataFrame(kendall_coeffs, columns=samp_names, index=samp_names)"
   ]
  },
  {
   "cell_type": "code",
   "execution_count": 211,
   "metadata": {},
   "outputs": [
    {
     "name": "stdout",
     "output_type": "stream",
     "text": [
      "0.900 2.734e+12 0.000\n"
     ]
    }
   ],
   "source": [
    "sums = np.sum(stats.rankdata(samples, axis=1), axis=0)\n",
    "n = len(samples[0])\n",
    "k = len(samples) - 1\n",
    "S = sums.var() * n\n",
    "W = (12*S)/((k + 1)**2 * (n**3 - n))\n",
    "Z = 12*S/(k + 1) * n * (n - 1)\n",
    "pvalue = 1 - stats.chi2(n - 1).cdf(Z)\n",
    "print(\"%.3f %.3e %.3f\" % (W, Z, pvalue))"
   ]
  },
  {
   "attachments": {},
   "cell_type": "markdown",
   "metadata": {},
   "source": [
    "# Задание 9"
   ]
  },
  {
   "cell_type": "code",
   "execution_count": 475,
   "metadata": {},
   "outputs": [],
   "source": [
    "def lin_regr(design_matrix_transposed, Y):\n",
    "    F = np.asmatrix(design_matrix_transposed).T\n",
    "    y = np.asmatrix(Y).T\n",
    "    return np.asarray(((F.T * F).I * F.T * y).T).flatten()\n",
    "\n",
    "def reg_var(func, y):\n",
    "    y_mean = np.mean(y)\n",
    "    return np.sum((func - y_mean)**2)/len(y)\n",
    "\n",
    "def res_var(func, y):\n",
    "    return np.sum((y - func)**2)/len(y)\n",
    "\n",
    "def func(funcs, b, x):\n",
    "    return np.sum(np.asarray([b[i] * funcs[i](x) for i in range(len(funcs))]), axis=0)\n",
    "\n",
    "def display_coefs(funcs, X, Y, b):\n",
    "    n = len(X)\n",
    "    k = len(b)\n",
    "    reg_var_val = reg_var(func(funcs, b, X), Y)\n",
    "    res_var_val = res_var(func(funcs, b, X), Y)\n",
    "    var_val = Y.var()\n",
    "    coef_det = reg_var_val / var_val\n",
    "    display(pd.DataFrame\\\n",
    "    (\\\n",
    "        columns=['Показатель вариации', 'Число степеней свободы', 'Несмещенная оценка'],\\\n",
    "        index=['Факторный признак', 'Остаточные признаки', 'Все признаки'],\\\n",
    "        data=[[reg_var_val, k - 1, reg_var_val * n / (k - 1)],\\\n",
    "            [res_var_val, n - k, res_var_val * n / (n - k)],\\\n",
    "            [var_val, n - 1, reg_var_val * n / (n - 1)]]\\\n",
    "    ))\n",
    "    print(f'reg_var + res_var: {reg_var_val + res_var_val:.3f}, coef_det: {coef_det:.3f}, sqrt(coef_det): {(coef_det)**0.5:.3f}')\n",
    "\n",
    "def conf_int_func(design_matrix_transposed, funcs, b, X, Y, alpha, x):\n",
    "    F = np.asmatrix(design_matrix_transposed).T\n",
    "    funcs_called = np.asmatrix([el(x) for el in funcs]).T\n",
    "    y = np.asmatrix(Y).T\n",
    "    n = F.shape[0]\n",
    "    k = F.shape[1]\n",
    "    t = stats.t(n - k).ppf\n",
    "    funcs_called.T*(F.T*F).I*funcs_called\n",
    "    # delta = t(1 - alpha/2) * ((n - k) * res_var(func(funcs, b, X), Y)**0.5 * (funcs_called.T*(F.T*F).I*funcs_called).flatten()[0]**0.5)\n",
    "    # return func(funcs, b, x) - delta, func(funcs, b, x) + delta"
   ]
  },
  {
   "cell_type": "code",
   "execution_count": 476,
   "metadata": {},
   "outputs": [],
   "source": [
    "X = data.B7.to_numpy()\n",
    "Y = data.B2.to_numpy()\n",
    "indecies_to_delete = np.bitwise_or(X > 300, Y > 39).nonzero()\n",
    "X = np.delete(X, indecies_to_delete)\n",
    "Y = np.delete(Y, indecies_to_delete)"
   ]
  },
  {
   "attachments": {},
   "cell_type": "markdown",
   "metadata": {},
   "source": [
    "## 9.2"
   ]
  },
  {
   "cell_type": "code",
   "execution_count": 477,
   "metadata": {},
   "outputs": [
    {
     "name": "stdout",
     "output_type": "stream",
     "text": [
      "b: [-3.82471344e+01  4.56098675e-01 -7.41884107e-04]\n"
     ]
    },
    {
     "data": {
      "text/html": [
       "<div>\n",
       "<style scoped>\n",
       "    .dataframe tbody tr th:only-of-type {\n",
       "        vertical-align: middle;\n",
       "    }\n",
       "\n",
       "    .dataframe tbody tr th {\n",
       "        vertical-align: top;\n",
       "    }\n",
       "\n",
       "    .dataframe thead th {\n",
       "        text-align: right;\n",
       "    }\n",
       "</style>\n",
       "<table border=\"1\" class=\"dataframe\">\n",
       "  <thead>\n",
       "    <tr style=\"text-align: right;\">\n",
       "      <th></th>\n",
       "      <th>Показатель вариации</th>\n",
       "      <th>Число степеней свободы</th>\n",
       "      <th>Несмещенная оценка</th>\n",
       "    </tr>\n",
       "  </thead>\n",
       "  <tbody>\n",
       "    <tr>\n",
       "      <th>Факторный признак</th>\n",
       "      <td>25.233</td>\n",
       "      <td>2</td>\n",
       "      <td>3141.524</td>\n",
       "    </tr>\n",
       "    <tr>\n",
       "      <th>Остаточные признаки</th>\n",
       "      <td>39.272</td>\n",
       "      <td>246</td>\n",
       "      <td>39.751</td>\n",
       "    </tr>\n",
       "    <tr>\n",
       "      <th>Все признаки</th>\n",
       "      <td>64.505</td>\n",
       "      <td>248</td>\n",
       "      <td>25.335</td>\n",
       "    </tr>\n",
       "  </tbody>\n",
       "</table>\n",
       "</div>"
      ],
      "text/plain": [
       "                     Показатель вариации  Число степеней свободы  \\\n",
       "Факторный признак                 25.233                       2   \n",
       "Остаточные признаки               39.272                     246   \n",
       "Все признаки                      64.505                     248   \n",
       "\n",
       "                     Несмещенная оценка  \n",
       "Факторный признак              3141.524  \n",
       "Остаточные признаки              39.751  \n",
       "Все признаки                     25.335  "
      ]
     },
     "metadata": {},
     "output_type": "display_data"
    },
    {
     "name": "stdout",
     "output_type": "stream",
     "text": [
      "reg_var + res_var: 64.505, coef_det: 0.391, sqrt(coef_det): 0.625\n"
     ]
    },
    {
     "ename": "ValueError",
     "evalue": "shapes (3,1000) and (3,3) not aligned: 1000 (dim 1) != 3 (dim 0)",
     "output_type": "error",
     "traceback": [
      "\u001b[0;31m---------------------------------------------------------------------------\u001b[0m",
      "\u001b[0;31mValueError\u001b[0m                                Traceback (most recent call last)",
      "Cell \u001b[0;32mIn[477], line 14\u001b[0m\n\u001b[1;32m     11\u001b[0m plt\u001b[39m.\u001b[39mplot(x, func(funcs, b, x))\n\u001b[1;32m     12\u001b[0m _ \u001b[39m=\u001b[39m plt\u001b[39m.\u001b[39myticks(np\u001b[39m.\u001b[39marange(\u001b[39m0\u001b[39m, Y\u001b[39m.\u001b[39mmax(), \u001b[39m3\u001b[39m))\n\u001b[0;32m---> 14\u001b[0m \u001b[39mprint\u001b[39m(conf_int_func(F, funcs, b, X, Y, alpha, x))\n",
      "Cell \u001b[0;32mIn[475], line 40\u001b[0m, in \u001b[0;36mconf_int_func\u001b[0;34m(design_matrix_transposed, funcs, b, X, Y, alpha, x)\u001b[0m\n\u001b[1;32m     38\u001b[0m k \u001b[39m=\u001b[39m F\u001b[39m.\u001b[39mshape[\u001b[39m1\u001b[39m]\n\u001b[1;32m     39\u001b[0m t \u001b[39m=\u001b[39m stats\u001b[39m.\u001b[39mt(n \u001b[39m-\u001b[39m k)\u001b[39m.\u001b[39mppf\n\u001b[0;32m---> 40\u001b[0m funcs_called\u001b[39m.\u001b[39;49mT\u001b[39m*\u001b[39;49m(F\u001b[39m.\u001b[39;49mT\u001b[39m*\u001b[39;49mF)\u001b[39m.\u001b[39;49mI\u001b[39m*\u001b[39mfuncs_called\n",
      "File \u001b[0;32m~/.local/lib/python3.8/site-packages/numpy/matrixlib/defmatrix.py:218\u001b[0m, in \u001b[0;36mmatrix.__mul__\u001b[0;34m(self, other)\u001b[0m\n\u001b[1;32m    215\u001b[0m \u001b[39mdef\u001b[39;00m \u001b[39m__mul__\u001b[39m(\u001b[39mself\u001b[39m, other):\n\u001b[1;32m    216\u001b[0m     \u001b[39mif\u001b[39;00m \u001b[39misinstance\u001b[39m(other, (N\u001b[39m.\u001b[39mndarray, \u001b[39mlist\u001b[39m, \u001b[39mtuple\u001b[39m)) :\n\u001b[1;32m    217\u001b[0m         \u001b[39m# This promotes 1-D vectors to row vectors\u001b[39;00m\n\u001b[0;32m--> 218\u001b[0m         \u001b[39mreturn\u001b[39;00m N\u001b[39m.\u001b[39;49mdot(\u001b[39mself\u001b[39;49m, asmatrix(other))\n\u001b[1;32m    219\u001b[0m     \u001b[39mif\u001b[39;00m isscalar(other) \u001b[39mor\u001b[39;00m \u001b[39mnot\u001b[39;00m \u001b[39mhasattr\u001b[39m(other, \u001b[39m'\u001b[39m\u001b[39m__rmul__\u001b[39m\u001b[39m'\u001b[39m) :\n\u001b[1;32m    220\u001b[0m         \u001b[39mreturn\u001b[39;00m N\u001b[39m.\u001b[39mdot(\u001b[39mself\u001b[39m, other)\n",
      "File \u001b[0;32m<__array_function__ internals>:200\u001b[0m, in \u001b[0;36mdot\u001b[0;34m(*args, **kwargs)\u001b[0m\n",
      "\u001b[0;31mValueError\u001b[0m: shapes (3,1000) and (3,3) not aligned: 1000 (dim 1) != 3 (dim 0)"
     ]
    },
    {
     "data": {
      "image/png": "[encoded data removed]",
      "text/plain": [
       "<Figure size 640x480 with 1 Axes>"
      ]
     },
     "metadata": {},
     "output_type": "display_data"
    }
   ],
   "source": [
    "funcs = [lambda x: np.ones_like(x), lambda x: x, lambda x: x**2]\n",
    "\n",
    "F = np.asmatrix([[1]*X.size, X, X**2])\n",
    "b = lin_regr(F, Y)\n",
    "print('b:', b)\n",
    "\n",
    "display_coefs(funcs, X, Y, b)\n",
    "\n",
    "x = np.linspace(X.min(), X.max(), 1000)\n",
    "plt.scatter(X, Y)\n",
    "plt.plot(x, func(funcs, b, x))\n",
    "_ = plt.yticks(np.arange(0, Y.max(), 3))\n",
    "\n",
    "print(conf_int_func(F, funcs, b, X, Y, alpha, x))"
   ]
  },
  {
   "cell_type": "code",
   "execution_count": null,
   "metadata": {},
   "outputs": [],
   "source": []
  }
 ],
 "metadata": {
  "kernelspec": {
   "display_name": "Python 3",
   "language": "python",
   "name": "python3"
  },
  "language_info": {
   "codemirror_mode": {
    "name": "ipython",
    "version": 3
   },
   "file_extension": ".py",
   "mimetype": "text/x-python",
   "name": "python",
   "nbconvert_exporter": "python",
   "pygments_lexer": "ipython3",
   "version": "3.8.10"
  },
  "orig_nbformat": 4
 },
 "nbformat": 4,
 "nbformat_minor": 2
}
