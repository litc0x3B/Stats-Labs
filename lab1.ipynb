{
 "cells": [
  {
   "cell_type": "code",
   "execution_count": 1,
   "metadata": {},
   "outputs": [],
   "source": [
    "import numpy as np     \n",
    "import pandas as pd     \n",
    "from scipy import stats\n",
    "import seaborn as sns\n",
    "import math\n",
    "\n",
    "%matplotlib inline"
   ]
  },
  {
   "cell_type": "code",
   "execution_count": 2,
   "metadata": {},
   "outputs": [
    {
     "name": "stdout",
     "output_type": "stream",
     "text": [
      "X1: mean = 2.154; var = 6.132; std = 2.476; size = 100.000\n"
     ]
    }
   ],
   "source": [
    "x1_size = 100\n",
    "x1 = stats.chi2(2).rvs(x1_size)\n",
    "\n",
    "x1_mean = np.mean(x1)\n",
    "x1_var = np.var(x1)\n",
    "x1_std = math.sqrt(x1_var) \n",
    "\n",
    "print(f\"X1: mean = {x1_mean:.3f}; var = {x1_var:.3f}; std = {x1_std:.3f}; size = {x1_size:.3f}\")"
   ]
  },
  {
   "cell_type": "code",
   "execution_count": 3,
   "metadata": {},
   "outputs": [
    {
     "name": "stdout",
     "output_type": "stream",
     "text": [
      "X2: mean = 2.222; var = 4.368; std = 2.090; size = 100.000\n"
     ]
    }
   ],
   "source": [
    "x2_size = 100\n",
    "x2 = stats.chi2(2).rvs(x2_size)\n",
    "\n",
    "x2_mean = np.mean(x2)\n",
    "x2_var = np.var(x2)\n",
    "x2_std = math.sqrt(x2_var) \n",
    "\n",
    "print(f\"X2: mean = {x2_mean:.3f}; var = {x2_var:.3f}; std = {x2_std:.3f}; size = {x2_size:.3f}\")"
   ]
  }
 ],
 "metadata": {
  "kernelspec": {
   "display_name": "Python 3",
   "language": "python",
   "name": "python3"
  },
  "language_info": {
   "codemirror_mode": {
    "name": "ipython",
    "version": 3
   },
   "file_extension": ".py",
   "mimetype": "text/x-python",
   "name": "python",
   "nbconvert_exporter": "python",
   "pygments_lexer": "ipython3",
   "version": "3.8.10"
  },
  "orig_nbformat": 4
 },
 "nbformat": 4,
 "nbformat_minor": 2
}
