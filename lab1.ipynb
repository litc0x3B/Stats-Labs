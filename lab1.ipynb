{
 "cells": [
  {
   "cell_type": "code",
   "execution_count": 1315,
   "metadata": {},
   "outputs": [],
   "source": [
    "import numpy as np     \n",
    "# import pandas as pd     \n",
    "from scipy import stats\n",
    "# import seaborn as sns\n",
    "import math\n",
    "import matplotlib.pyplot as plt\n",
    "\n",
    "%matplotlib inline"
   ]
  },
  {
   "cell_type": "code",
   "execution_count": 1316,
   "metadata": {},
   "outputs": [
    {
     "name": "stdout",
     "output_type": "stream",
     "text": [
      "X1: mean = 1.967; var = 4.385; std = 2.094; size = 300.000\n"
     ]
    }
   ],
   "source": [
    "x1_size = 300\n",
    "x1_k = 2\n",
    "x1_m = x1_k;\n",
    "x1_sig = 2 * x1_k;\n",
    "\n",
    "x1 = stats.chi2(x1_k).rvs(x1_size)\n",
    "\n",
    "x1_mean = np.mean(x1)\n",
    "x1_var = np.var(x1)\n",
    "x1_std = math.sqrt(x1_var) \n",
    "\n",
    "print(f\"X1: mean = {x1_mean:.3f}; var = {x1_var:.3f}; std = {x1_std:.3f}; size = {x1_size:.3f}\")"
   ]
  },
  {
   "cell_type": "code",
   "execution_count": 1317,
   "metadata": {},
   "outputs": [
    {
     "name": "stdout",
     "output_type": "stream",
     "text": [
      "X2: mean = 2.958; var = 0.978; std = 0.989; size = 300.000\n"
     ]
    }
   ],
   "source": [
    "x2_size = 300\n",
    "x2_m = x1_k;\n",
    "x2_sig = 2 * x1_k;\n",
    "x2 = stats.norm(3, 1).rvs(x2_size)\n",
    "\n",
    "\n",
    "x2_mean = np.mean(x2)\n",
    "x2_var = np.var(x2)\n",
    "x2_std = math.sqrt(x2_var) \n",
    "\n",
    "print(f\"X2: mean = {x2_mean:.3f}; var = {x2_var:.3f}; std = {x2_std:.3f}; size = {x2_size:.3f}\")"
   ]
  },
  {
   "cell_type": "code",
   "execution_count": 1318,
   "metadata": {},
   "outputs": [
    {
     "name": "stdout",
     "output_type": "stream",
     "text": [
      "pooled: mean = 2.462; var = 2.927; std = 1.711; size = 600.000\n"
     ]
    }
   ],
   "source": [
    "pooled = np.concatenate((x1, x2)) \n",
    "\n",
    "pooled_size = pooled.size;\n",
    "pooled_mean = np.mean(pooled)\n",
    "pooled_var = np.var(pooled)\n",
    "pooled_std = math.sqrt(pooled_var) \n",
    "\n",
    "print(f\"pooled: mean = {pooled_mean:.3f}; var = {pooled_var:.3f}; std = {pooled_std:.3f}; size = {pooled_size:.3f}\")"
   ]
  },
  {
   "cell_type": "code",
   "execution_count": 1319,
   "metadata": {},
   "outputs": [
    {
     "name": "stdout",
     "output_type": "stream",
     "text": [
      "X1 z-test: m0 = 2.000; stat = -0.143; pvalue = 0.887\n",
      "X1 t-test: m0 = 2.100; stat = -1.098; pvalue = 0.273\n",
      "X1 chi2-test, m is known: sig0_squared = 4.200; stat = 313.295; pvalue = 0.574\n",
      "X1 chi2-test, m is unknown: sig0_squared = 4.000; stat = 327.782; pvalue = 0.243\n"
     ]
    }
   ],
   "source": [
    "#let alpha be 0.3\n",
    "def calc_s0_squared(x, m):\n",
    "  sum = 0\n",
    "  for el in x:\n",
    "    sum += (el - m)**2\n",
    "  return sum / x.size\n",
    "\n",
    "#z-test\n",
    "m0 = 2\n",
    "statistic = (x1_mean - m0) * x1_size**(1/2) / x1_sig\n",
    "F = stats.norm(0, 1).cdf(statistic)\n",
    "pvalue = 2 * min(F, 1 - F)\n",
    "print(f\"X1 z-test: m0 = {m0:.3f}; stat = {statistic:.3f}; pvalue = {pvalue:.3f}\")\n",
    "\n",
    "#t-test\n",
    "m0 = 2.1\n",
    "result = stats.ttest_1samp(x1, m0)\n",
    "print(f\"X1 t-test: m0 = {m0:.3f}; stat = {result.statistic:.3f}; pvalue = {result.pvalue:.3f}\")\n",
    "\n",
    "#chi2-test, m is known\n",
    "sig0_squared = 4.2\n",
    "#выб оценка дисперсии\n",
    "s0_squared = calc_s0_squared(x1, x1_m)\n",
    "\n",
    "statistic = x1_size * s0_squared / sig0_squared\n",
    "F = stats.chi2(x1_size).cdf(statistic)\n",
    "pvalue = 2 * min(F, 1 - F)\n",
    "print(f\"X1 chi2-test, m is known: sig0_squared = {sig0_squared:.3f}; stat = {statistic:.3f}; pvalue = {pvalue:.3f}\")\n",
    "\n",
    "def chi2test(x, sig0_squared):\n",
    "  statistic = (x.size - 1) * x.var() / sig0_squared\n",
    "  F = stats.chi2(x.size - 1).cdf(statistic)\n",
    "  pvalue = 2 * min(F, 1 - F)\n",
    "  return pvalue, statistic\n",
    "\n",
    "#chi2-test, m is unknown\n",
    "sig0_squared = 4\n",
    "# statistic = (x1_size - 1) * x1_var / sig0_squared\n",
    "# F = stats.chi2(x1_size - 1).cdf(statistic)\n",
    "# pvalue = 2 * min(F, 1 - F)\n",
    "pvalue, statistic = chi2test(x1, sig0_squared)\n",
    "print(f\"X1 chi2-test, m is unknown: sig0_squared = {sig0_squared:.3f}; stat = {statistic:.3f}; pvalue = {pvalue:.3f}\")"
   ]
  },
  {
   "cell_type": "code",
   "execution_count": 1320,
   "metadata": {},
   "outputs": [
    {
     "name": "stdout",
     "output_type": "stream",
     "text": [
      "2 sample t-test: stat = -7.397; pvalue = 4.734338985235372e-13\n",
      "2 sample f-test (known m): stat = 2.314; pvalue = 8.186784583585904e-13\n",
      "2 sample f-test (unknown m): stat = 4.484; pvalue = 2.220446049250313e-16\n"
     ]
    }
   ],
   "source": [
    "#2 sample tests\n",
    "#t-test\n",
    "result = stats.ttest_ind(x1, x2)\n",
    "print(f\"2 sample t-test: stat = {result.statistic:.3f}; pvalue = {result.pvalue}\")\n",
    "\n",
    "#f-test\n",
    "s01_squared = calc_s0_squared(x1, x1_m)\n",
    "s02_squared = calc_s0_squared(x2, x2_m)\n",
    "statistic = s01_squared / s02_squared\n",
    "F = stats.f(x1_size, x2_size).cdf(statistic)\n",
    "pvalue = 2 * min(F, 1 - F)\n",
    "print(f\"2 sample f-test (known m): stat = {statistic:.3f}; pvalue = {pvalue}\")\n",
    "\n",
    "statistic = x1_var / x2_var\n",
    "F = stats.f(x1_size, x2_size).cdf(statistic)\n",
    "pvalue = 2 * min(F, 1 - F)\n",
    "print(f\"2 sample f-test (unknown m): stat = {statistic:.3f}; pvalue = {pvalue}\")"
   ]
  },
  {
   "cell_type": "code",
   "execution_count": 1325,
   "metadata": {},
   "outputs": [
    {
     "ename": "KeyboardInterrupt",
     "evalue": "",
     "output_type": "error",
     "traceback": [
      "\u001b[0;31m---------------------------------------------------------------------------\u001b[0m",
      "\u001b[0;31mKeyboardInterrupt\u001b[0m                         Traceback (most recent call last)",
      "Cell \u001b[0;32mIn[1325], line 7\u001b[0m\n\u001b[1;32m      4\u001b[0m p \u001b[39m=\u001b[39m \u001b[39mlist\u001b[39m()\n\u001b[1;32m      6\u001b[0m \u001b[39mfor\u001b[39;00m i \u001b[39min\u001b[39;00m \u001b[39mrange\u001b[39m(n):\n\u001b[0;32m----> 7\u001b[0m     x1 \u001b[39m=\u001b[39m stats\u001b[39m.\u001b[39;49mchi2(x1_k)\u001b[39m.\u001b[39mrvs(x1_size)\n\u001b[1;32m      8\u001b[0m     pvalue, statistic \u001b[39m=\u001b[39m chi2test(x1, sig0_squared)\n\u001b[1;32m      9\u001b[0m     z\u001b[39m.\u001b[39mappend(statistic)\n",
      "File \u001b[0;32m~/.local/lib/python3.8/site-packages/scipy/stats/_distn_infrastructure.py:829\u001b[0m, in \u001b[0;36mrv_generic.__call__\u001b[0;34m(self, *args, **kwds)\u001b[0m\n\u001b[1;32m    828\u001b[0m \u001b[39mdef\u001b[39;00m \u001b[39m__call__\u001b[39m(\u001b[39mself\u001b[39m, \u001b[39m*\u001b[39margs, \u001b[39m*\u001b[39m\u001b[39m*\u001b[39mkwds):\n\u001b[0;32m--> 829\u001b[0m     \u001b[39mreturn\u001b[39;00m \u001b[39mself\u001b[39;49m\u001b[39m.\u001b[39;49mfreeze(\u001b[39m*\u001b[39;49margs, \u001b[39m*\u001b[39;49m\u001b[39m*\u001b[39;49mkwds)\n",
      "File \u001b[0;32m~/.local/lib/python3.8/site-packages/scipy/stats/_distn_infrastructure.py:824\u001b[0m, in \u001b[0;36mrv_generic.freeze\u001b[0;34m(self, *args, **kwds)\u001b[0m\n\u001b[1;32m    809\u001b[0m \u001b[39m\u001b[39m\u001b[39m\"\"\"Freeze the distribution for the given arguments.\u001b[39;00m\n\u001b[1;32m    810\u001b[0m \n\u001b[1;32m    811\u001b[0m \u001b[39mParameters\u001b[39;00m\n\u001b[0;32m   (...)\u001b[0m\n\u001b[1;32m    821\u001b[0m \n\u001b[1;32m    822\u001b[0m \u001b[39m\"\"\"\u001b[39;00m\n\u001b[1;32m    823\u001b[0m \u001b[39mif\u001b[39;00m \u001b[39misinstance\u001b[39m(\u001b[39mself\u001b[39m, rv_continuous):\n\u001b[0;32m--> 824\u001b[0m     \u001b[39mreturn\u001b[39;00m rv_continuous_frozen(\u001b[39mself\u001b[39;49m, \u001b[39m*\u001b[39;49margs, \u001b[39m*\u001b[39;49m\u001b[39m*\u001b[39;49mkwds)\n\u001b[1;32m    825\u001b[0m \u001b[39melse\u001b[39;00m:\n\u001b[1;32m    826\u001b[0m     \u001b[39mreturn\u001b[39;00m rv_discrete_frozen(\u001b[39mself\u001b[39m, \u001b[39m*\u001b[39margs, \u001b[39m*\u001b[39m\u001b[39m*\u001b[39mkwds)\n",
      "File \u001b[0;32m~/.local/lib/python3.8/site-packages/scipy/stats/_distn_infrastructure.py:440\u001b[0m, in \u001b[0;36mrv_frozen.__init__\u001b[0;34m(self, dist, *args, **kwds)\u001b[0m\n\u001b[1;32m    437\u001b[0m \u001b[39mself\u001b[39m\u001b[39m.\u001b[39mkwds \u001b[39m=\u001b[39m kwds\n\u001b[1;32m    439\u001b[0m \u001b[39m# create a new instance\u001b[39;00m\n\u001b[0;32m--> 440\u001b[0m \u001b[39mself\u001b[39m\u001b[39m.\u001b[39mdist \u001b[39m=\u001b[39m dist\u001b[39m.\u001b[39;49m\u001b[39m__class__\u001b[39;49m(\u001b[39m*\u001b[39;49m\u001b[39m*\u001b[39;49mdist\u001b[39m.\u001b[39;49m_updated_ctor_param())\n\u001b[1;32m    442\u001b[0m shapes, _, _ \u001b[39m=\u001b[39m \u001b[39mself\u001b[39m\u001b[39m.\u001b[39mdist\u001b[39m.\u001b[39m_parse_args(\u001b[39m*\u001b[39margs, \u001b[39m*\u001b[39m\u001b[39m*\u001b[39mkwds)\n\u001b[1;32m    443\u001b[0m \u001b[39mself\u001b[39m\u001b[39m.\u001b[39ma, \u001b[39mself\u001b[39m\u001b[39m.\u001b[39mb \u001b[39m=\u001b[39m \u001b[39mself\u001b[39m\u001b[39m.\u001b[39mdist\u001b[39m.\u001b[39m_get_support(\u001b[39m*\u001b[39mshapes)\n",
      "File \u001b[0;32m~/.local/lib/python3.8/site-packages/scipy/stats/_distn_infrastructure.py:1954\u001b[0m, in \u001b[0;36mrv_continuous.__init__\u001b[0;34m(self, momtype, a, b, xtol, badvalue, name, longname, shapes, extradoc, seed)\u001b[0m\n\u001b[1;32m   1952\u001b[0m \u001b[39melse\u001b[39;00m:\n\u001b[1;32m   1953\u001b[0m     dct \u001b[39m=\u001b[39m \u001b[39mdict\u001b[39m(distcont)\n\u001b[0;32m-> 1954\u001b[0m     \u001b[39mself\u001b[39;49m\u001b[39m.\u001b[39;49m_construct_doc(docdict, dct\u001b[39m.\u001b[39;49mget(\u001b[39mself\u001b[39;49m\u001b[39m.\u001b[39;49mname))\n",
      "File \u001b[0;32m~/.local/lib/python3.8/site-packages/scipy/stats/_distn_infrastructure.py:785\u001b[0m, in \u001b[0;36mrv_generic._construct_doc\u001b[0;34m(self, docdict, shapes_vals)\u001b[0m\n\u001b[1;32m    783\u001b[0m     \u001b[39mself\u001b[39m\u001b[39m.\u001b[39m\u001b[39m__doc__\u001b[39m \u001b[39m=\u001b[39m \u001b[39mself\u001b[39m\u001b[39m.\u001b[39m\u001b[39m__doc__\u001b[39m\u001b[39m.\u001b[39mreplace(\u001b[39m\"\u001b[39m\u001b[39m%(shapes)s\u001b[39;00m\u001b[39m, \u001b[39m\u001b[39m\"\u001b[39m, \u001b[39m\"\u001b[39m\u001b[39m\"\u001b[39m)\n\u001b[1;32m    784\u001b[0m \u001b[39mtry\u001b[39;00m:\n\u001b[0;32m--> 785\u001b[0m     \u001b[39mself\u001b[39m\u001b[39m.\u001b[39m\u001b[39m__doc__\u001b[39m \u001b[39m=\u001b[39m doccer\u001b[39m.\u001b[39;49mdocformat(\u001b[39mself\u001b[39;49m\u001b[39m.\u001b[39;49m\u001b[39m__doc__\u001b[39;49m, tempdict)\n\u001b[1;32m    786\u001b[0m \u001b[39mexcept\u001b[39;00m \u001b[39mTypeError\u001b[39;00m \u001b[39mas\u001b[39;00m e:\n\u001b[1;32m    787\u001b[0m     \u001b[39mraise\u001b[39;00m \u001b[39mException\u001b[39;00m(\u001b[39m\"\u001b[39m\u001b[39mUnable to construct docstring for \u001b[39m\u001b[39m\"\u001b[39m\n\u001b[1;32m    788\u001b[0m                     \u001b[39m\"\u001b[39m\u001b[39mdistribution \u001b[39m\u001b[39m\\\"\u001b[39;00m\u001b[39m%s\u001b[39;00m\u001b[39m\\\"\u001b[39;00m\u001b[39m: \u001b[39m\u001b[39m%s\u001b[39;00m\u001b[39m\"\u001b[39m \u001b[39m%\u001b[39m\n\u001b[1;32m    789\u001b[0m                     (\u001b[39mself\u001b[39m\u001b[39m.\u001b[39mname, \u001b[39mrepr\u001b[39m(e))) \u001b[39mfrom\u001b[39;00m \u001b[39me\u001b[39;00m\n",
      "File \u001b[0;32m~/.local/lib/python3.8/site-packages/scipy/_lib/doccer.py:51\u001b[0m, in \u001b[0;36mdocformat\u001b[0;34m(docstring, docdict)\u001b[0m\n\u001b[1;32m     49\u001b[0m \u001b[39mif\u001b[39;00m \u001b[39mnot\u001b[39;00m docdict:\n\u001b[1;32m     50\u001b[0m     \u001b[39mreturn\u001b[39;00m docstring\n\u001b[0;32m---> 51\u001b[0m lines \u001b[39m=\u001b[39m docstring\u001b[39m.\u001b[39;49mexpandtabs()\u001b[39m.\u001b[39;49msplitlines()\n\u001b[1;32m     52\u001b[0m \u001b[39m# Find the minimum indent of the main docstring, after first line\u001b[39;00m\n\u001b[1;32m     53\u001b[0m \u001b[39mif\u001b[39;00m \u001b[39mlen\u001b[39m(lines) \u001b[39m<\u001b[39m \u001b[39m2\u001b[39m:\n",
      "\u001b[0;31mKeyboardInterrupt\u001b[0m: "
     ]
    }
   ],
   "source": [
    "sig0_squared = 4\n",
    "n = 5000\n",
    "z = list()\n",
    "p = list()\n",
    "\n",
    "for i in range(n):\n",
    "    x1 = stats.chi2(x1_k).rvs(x1_size)\n",
    "    pvalue, statistic = chi2test(x1, sig0_squared)\n",
    "    z.append(statistic)\n",
    "    p.append(pvalue)\n",
    "\n",
    "mean_z = np.mean(z)\n",
    "var_z = np.var(z)\n",
    "std_z = np.std(z)\n",
    "\n",
    "mean_p = np.mean(p)\n",
    "var_p = np.var(p)\n",
    "std_p = np.std(p)\n",
    "\n",
    "print(\"mean_z = %.3f; var_z = %.3f; std_z = %.3f\" % (mean_z, var_z, std_z))\n",
    "print(\"mean_p = %.3f; std_z = %.3f; std_p = %.3f\" % (mean_p, var_p, std_p))\n"
   ]
  },
  {
   "cell_type": "code",
   "execution_count": null,
   "metadata": {},
   "outputs": [],
   "source": []
  },
  {
   "cell_type": "code",
   "execution_count": null,
   "metadata": {},
   "outputs": [],
   "source": []
  }
 ],
 "metadata": {
  "kernelspec": {
   "display_name": "Python 3",
   "language": "python",
   "name": "python3"
  },
  "language_info": {
   "codemirror_mode": {
    "name": "ipython",
    "version": 3
   },
   "file_extension": ".py",
   "mimetype": "text/x-python",
   "name": "python",
   "nbconvert_exporter": "python",
   "pygments_lexer": "ipython3",
   "version": "3.8.10"
  },
  "orig_nbformat": 4
 },
 "nbformat": 4,
 "nbformat_minor": 2
}
