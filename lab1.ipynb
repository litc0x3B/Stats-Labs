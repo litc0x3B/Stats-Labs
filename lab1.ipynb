{
 "cells": [
  {
   "cell_type": "code",
   "execution_count": 5,
   "metadata": {},
   "outputs": [],
   "source": [
    "import numpy as np     \n",
    "import pandas as pd     \n",
    "from scipy import stats\n",
    "import seaborn as sns\n",
    "import math\n",
    "\n",
    "%matplotlib inline"
   ]
  },
  {
   "cell_type": "code",
   "execution_count": 6,
   "metadata": {},
   "outputs": [
    {
     "name": "stdout",
     "output_type": "stream",
     "text": [
      "X1: mean = 1.926; var = 4.096; std = 2.024; size = 200.000\n"
     ]
    }
   ],
   "source": [
    "x1_size = 200\n",
    "x1 = stats.chi2(2).rvs(x1_size)\n",
    "\n",
    "x1_mean = np.mean(x1)\n",
    "x1_var = np.var(x1)\n",
    "x1_std = math.sqrt(x1_var) \n",
    "\n",
    "print(f\"X1: mean = {x1_mean:.3f}; var = {x1_var:.3f}; std = {x1_std:.3f}; size = {x1_size:.3f}\")"
   ]
  },
  {
   "cell_type": "code",
   "execution_count": 7,
   "metadata": {},
   "outputs": [
    {
     "name": "stdout",
     "output_type": "stream",
     "text": [
      "X1: mean = 2.076; var = 5.087; std = 2.256; size = 200.000\n"
     ]
    }
   ],
   "source": [
    "x2_size = 200\n",
    "x2 = stats.chi2(2).rvs(x1_size)\n",
    "\n",
    "x1_mean = np.mean(x1)\n",
    "x1_var = np.var(x1)\n",
    "x1_std = math.sqrt(x1_var) \n",
    "\n",
    "print(f\"X1: mean = {x1_mean:.3f}; var = {x1_var:.3f}; std = {x1_std:.3f}; size = {x1_size:.3f}\")"
   ]
  }
 ],
 "metadata": {
  "kernelspec": {
   "display_name": "Python 3",
   "language": "python",
   "name": "python3"
  },
  "language_info": {
   "codemirror_mode": {
    "name": "ipython",
    "version": 3
   },
   "file_extension": ".py",
   "mimetype": "text/x-python",
   "name": "python",
   "nbconvert_exporter": "python",
   "pygments_lexer": "ipython3",
   "version": "3.8.10"
  },
  "orig_nbformat": 4
 },
 "nbformat": 4,
 "nbformat_minor": 2
}
