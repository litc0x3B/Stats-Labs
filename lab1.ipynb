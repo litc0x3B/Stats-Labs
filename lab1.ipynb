{
 "cells": [
  {
   "cell_type": "code",
   "execution_count": 74,
   "metadata": {},
   "outputs": [],
   "source": [
    "import numpy as np     \n",
    "# import pandas as pd     \n",
    "from scipy import stats\n",
    "# import seaborn as sns\n",
    "import math\n",
    "import matplotlib.pyplot as plt\n",
    "\n",
    "\n",
    "%matplotlib inline"
   ]
  },
  {
   "cell_type": "code",
   "execution_count": 75,
   "metadata": {},
   "outputs": [
    {
     "name": "stdout",
     "output_type": "stream",
     "text": [
      "X1: mean = 2.088; var = 3.702; std = 1.924; size = 300.000\n"
     ]
    }
   ],
   "source": [
    "np.random.seed(seed=1234) \n",
    "x1_size = 300\n",
    "x1_k = 2\n",
    "x1_m = x1_k;\n",
    "x1_sig = 2 * x1_k;\n",
    "\n",
    "\n",
    "x1 = stats.chi2(x1_k).rvs(x1_size)\n",
    "\n",
    "x1_mean = np.mean(x1)\n",
    "x1_var = np.var(x1)\n",
    "x1_std = math.sqrt(x1_var) \n",
    "\n",
    "print(f\"X1: mean = {x1_mean:.3f}; var = {x1_var:.3f}; std = {x1_std:.3f}; size = {x1_size:.3f}\")"
   ]
  },
  {
   "cell_type": "code",
   "execution_count": 76,
   "metadata": {},
   "outputs": [
    {
     "name": "stdout",
     "output_type": "stream",
     "text": [
      "X2: mean = 2.984; var = 0.860; std = 0.927; size = 300.000\n"
     ]
    }
   ],
   "source": [
    "x2_size = 300\n",
    "x2_m = x1_k;\n",
    "x2_sig = 2 * x1_k;\n",
    "x2 = stats.norm(3, 1).rvs(x2_size)\n",
    "\n",
    "\n",
    "x2_mean = np.mean(x2)\n",
    "x2_var = np.var(x2)\n",
    "x2_std = math.sqrt(x2_var) \n",
    "\n",
    "print(f\"X2: mean = {x2_mean:.3f}; var = {x2_var:.3f}; std = {x2_std:.3f}; size = {x2_size:.3f}\")"
   ]
  },
  {
   "cell_type": "code",
   "execution_count": 77,
   "metadata": {},
   "outputs": [
    {
     "name": "stdout",
     "output_type": "stream",
     "text": [
      "pooled: mean = 2.536; var = 2.482; std = 1.575; size = 600.000\n"
     ]
    }
   ],
   "source": [
    "pooled = np.concatenate((x1, x2)) \n",
    "\n",
    "pooled_size = pooled.size;\n",
    "pooled_mean = np.mean(pooled)\n",
    "pooled_var = np.var(pooled)\n",
    "pooled_std = math.sqrt(pooled_var) \n",
    "\n",
    "print(f\"pooled: mean = {pooled_mean:.3f}; var = {pooled_var:.3f}; std = {pooled_std:.3f}; size = {pooled_size:.3f}\")"
   ]
  },
  {
   "cell_type": "code",
   "execution_count": 114,
   "metadata": {},
   "outputs": [
    {
     "name": "stdout",
     "output_type": "stream",
     "text": [
      "X1 z-test: m0 = 2.000; stat = 0.380; pvalue = 0.704\n",
      "X1 t-test: m0 = 2.100; stat = -0.898; pvalue = 0.370\n",
      "X1 chi2-test, m is known: sig0_squared = 4.200; stat = 241.671; pvalue = 0.994\n",
      "X1 chi2-test, m is unknown: sig0_squared = 4.000; stat = 252.907; pvalue = 0.050\n"
     ]
    }
   ],
   "source": [
    "#let alpha be 0.3\n",
    "def calc_s0_squared(x, m):\n",
    "  sum = 0\n",
    "  for el in x:\n",
    "    sum += (el - m)**2\n",
    "  return sum / x.size\n",
    "\n",
    "#z-test\n",
    "m0 = 2\n",
    "statistic = (x1_mean - m0) * x1_size**(1/2) / x1_sig\n",
    "F = stats.norm(0, 1).cdf(statistic)\n",
    "pvalue = 2 * min(F, 1 - F)\n",
    "print(f\"X1 z-test: m0 = {m0:.3f}; stat = {statistic:.3f}; pvalue = {pvalue:.3f}\")\n",
    "\n",
    "#t-test\n",
    "m0 = 2.1\n",
    "result = stats.ttest_1samp(x1, m0)\n",
    "print(f\"X1 t-test: m0 = {m0:.3f}; stat = {result.statistic:.3f}; pvalue = {result.pvalue:.3f}\")\n",
    "\n",
    "#chi2-test, m is known\n",
    "sig0_squared = 4.2\n",
    "#выб оценка дисперсии\n",
    "s0_squared = calc_s0_squared(x1, x1_m)\n",
    "\n",
    "statistic = x1_size * s0_squared / sig0_squared\n",
    "F = stats.chi2(x1_size).cdf(statistic)\n",
    "pvalue = 1 - F\n",
    "print(f\"X1 chi2-test, m is known: sig0_squared = {sig0_squared:.3f}; stat = {statistic:.3f}; pvalue = {pvalue:.3f}\")\n",
    "\n",
    "def chi2test(x, sig0_squared):\n",
    "  statistic = (x.size - 1) * x.var() / sig0_squared\n",
    "  F = stats.chi2(x.size - 1).cdf(statistic)\n",
    "  pvalue = 2 * min(1 - F, F)\n",
    "  return pvalue, statistic\n",
    "\n",
    "#chi2-test, m is unknown\n",
    "sig0_squared = 4\n",
    "# statistic = (x1_size - 1) * x1_var / sig0_squared\n",
    "# F = stats.chi2(x1_size - 1).cdf(statistic)\n",
    "# pvalue = 2 * min(F, 1 - F)\n",
    "pvalue, statistic = chi2test(x1, sig0_squared)\n",
    "print(f\"X1 chi2-test, m is unknown: sig0_squared = {sig0_squared:.3f}; stat = {statistic:.3f}; pvalue = {pvalue:.3f}\")"
   ]
  },
  {
   "cell_type": "code",
   "execution_count": 79,
   "metadata": {},
   "outputs": [
    {
     "name": "stdout",
     "output_type": "stream",
     "text": [
      "2 sample t-test: stat = -7.254; pvalue = 1.2581751131153937e-12\n",
      "2 sample f-test (known m): stat = 2.030; pvalue = 6.611087233210355e-10\n",
      "2 sample f-test (unknown m): stat = 4.306; pvalue = 1.1102230246251565e-16\n"
     ]
    }
   ],
   "source": [
    "#2 sample tests\n",
    "#t-test\n",
    "result = stats.ttest_ind(x1, x2)\n",
    "print(f\"2 sample t-test: stat = {result.statistic:.3f}; pvalue = {result.pvalue}\")\n",
    "\n",
    "#f-test\n",
    "s01_squared = calc_s0_squared(x1, x1_m)\n",
    "s02_squared = calc_s0_squared(x2, x2_m)\n",
    "statistic = s01_squared / s02_squared\n",
    "F = stats.f(x1_size, x2_size).cdf(statistic)\n",
    "pvalue = 2*min(1 - F, F)\n",
    "print(f\"2 sample f-test (known m): stat = {statistic:.3f}; pvalue = {pvalue}\")\n",
    "\n",
    "statistic = x1_var / x2_var\n",
    "F = stats.f(x1_size - 1, x2_size - 1).cdf(statistic)\n",
    "pvalue = 2*min(1 - F, F)\n",
    "print(f\"2 sample f-test (unknown m): stat = {statistic:.3f}; pvalue = {pvalue}\")"
   ]
  },
  {
   "cell_type": "code",
   "execution_count": 101,
   "metadata": {},
   "outputs": [
    {
     "name": "stdout",
     "output_type": "stream",
     "text": [
      "mean_z = 298.483; var_z = 2541.904; std_z = 50.417\n",
      "mean_p = 0.293; std_z = 0.095; std_p = 0.308\n"
     ]
    }
   ],
   "source": [
    "sig0_squared = 4\n",
    "n = 1000\n",
    "z = list()\n",
    "p = list()\n",
    "\n",
    "for i in range(n):\n",
    "    x1 = stats.chi2(2).rvs(x1_size)\n",
    "    pvalue, statistic = chi2test(x1, sig0_squared)\n",
    "    z.append(statistic)\n",
    "    p.append(pvalue)\n",
    "\n",
    "mean_z = np.mean(z)\n",
    "var_z = np.var(z)\n",
    "std_z = np.std(z)\n",
    "\n",
    "mean_p = np.mean(p)\n",
    "var_p = np.var(p)\n",
    "std_p = np.std(p)\n",
    "\n",
    "print(\"mean_z = %.3f; var_z = %.3f; std_z = %.3f\" % (mean_z, var_z, std_z))\n",
    "print(\"mean_p = %.3f; std_z = %.3f; std_p = %.3f\" % (mean_p, var_p, std_p))"
   ]
  },
  {
   "cell_type": "code",
   "execution_count": 112,
   "metadata": {},
   "outputs": [
    {
     "data": {
      "image/png": "[encoded data removed]",
      "text/plain": [
       "<Figure size 640x480 with 1 Axes>"
      ]
     },
     "metadata": {},
     "output_type": "display_data"
    }
   ],
   "source": [
    "x = np.linspace(100, 500, 1000)\n",
    "plt.plot(x, stats.chi2(x1_size - 1).pdf(x))\n",
    "plt.ylabel('$f(z|H0)$')\n",
    "plt.xlabel('$z$');\n",
    "_ = plt.hist(z, bins=100, density=True)"
   ]
  },
  {
   "cell_type": "code",
   "execution_count": 113,
   "metadata": {},
   "outputs": [
    {
     "data": {
      "image/png": "[encoded data removed]",
      "text/plain": [
       "<Figure size 640x480 with 1 Axes>"
      ]
     },
     "metadata": {},
     "output_type": "display_data"
    }
   ],
   "source": [
    "x = np.linspace(0, 1, 100)\n",
    "plt.plot(x, stats.uniform(0, 1).pdf(x))\n",
    "plt.ylabel('$f(p|H0)$')\n",
    "plt.xlabel('$p$');\n",
    "_ = plt.hist(p, bins=100, density=True)"
   ]
  },
  {
   "cell_type": "code",
   "execution_count": null,
   "metadata": {},
   "outputs": [],
   "source": []
  }
 ],
 "metadata": {
  "kernelspec": {
   "display_name": "Python 3",
   "language": "python",
   "name": "python3"
  },
  "language_info": {
   "codemirror_mode": {
    "name": "ipython",
    "version": 3
   },
   "file_extension": ".py",
   "mimetype": "text/x-python",
   "name": "python",
   "nbconvert_exporter": "python",
   "pygments_lexer": "ipython3",
   "version": "3.10.12"
  },
  "orig_nbformat": 4
 },
 "nbformat": 4,
 "nbformat_minor": 2
}
