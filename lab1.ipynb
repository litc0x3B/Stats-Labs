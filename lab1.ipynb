{
 "cells": [
  {
   "cell_type": "code",
   "execution_count": 1,
   "metadata": {},
   "outputs": [],
   "source": [
    "import numpy as np     \n",
    "# import pandas as pd     \n",
    "from scipy import stats\n",
    "# import seaborn as sns\n",
    "import math\n",
    "\n",
    "%matplotlib inline"
   ]
  },
  {
   "cell_type": "code",
   "execution_count": 2,
   "metadata": {},
   "outputs": [
    {
     "name": "stdout",
     "output_type": "stream",
     "text": [
      "X1: mean = 1.956; var = 3.604; std = 1.898; size = 100.000\n"
     ]
    }
   ],
   "source": [
    "x1_size = 100\n",
    "x1 = stats.chi2(2).rvs(x1_size)\n",
    "\n",
    "x1_mean = np.mean(x1)\n",
    "x1_var = np.var(x1)\n",
    "x1_std = math.sqrt(x1_var) \n",
    "\n",
    "print(f\"X1: mean = {x1_mean:.3f}; var = {x1_var:.3f}; std = {x1_std:.3f}; size = {x1_size:.3f}\")"
   ]
  },
  {
   "cell_type": "code",
   "execution_count": 3,
   "metadata": {},
   "outputs": [
    {
     "name": "stdout",
     "output_type": "stream",
     "text": [
      "X2: mean = 3.099; var = 1.033; std = 1.016; size = 100.000\n"
     ]
    }
   ],
   "source": [
    "x2_size = 100\n",
    "x2 = stats.norm(3, 1).rvs(x2_size)\n",
    "\n",
    "x2_mean = np.mean(x2)\n",
    "x2_var = np.var(x2)\n",
    "x2_std = math.sqrt(x2_var) \n",
    "\n",
    "print(f\"X2: mean = {x2_mean:.3f}; var = {x2_var:.3f}; std = {x2_std:.3f}; size = {x2_size:.3f}\")"
   ]
  },
  {
   "cell_type": "code",
   "execution_count": 4,
   "metadata": {},
   "outputs": [
    {
     "name": "stdout",
     "output_type": "stream",
     "text": [
      "X2: mean = 2.528; var = 2.645; std = 1.626; size = 200.000\n"
     ]
    }
   ],
   "source": [
    "pooled = np.concatenate((x1, x2)) \n",
    "\n",
    "pooled_size = pooled.size;\n",
    "pooled_mean = np.mean(pooled)\n",
    "pooled_var = np.var(pooled)\n",
    "pooled_std = math.sqrt(pooled_var) \n",
    "\n",
    "print(f\"X2: mean = {pooled_mean:.3f}; var = {pooled_var:.3f}; std = {pooled_std:.3f}; size = {pooled_size:.3f}\")"
   ]
  },
  {
   "cell_type": "code",
   "execution_count": 6,
   "metadata": {},
   "outputs": [],
   "source": [
    "from statsmodels.stats.weightstats import ztest "
   ]
  },
  {
   "cell_type": "code",
   "execution_count": 7,
   "metadata": {},
   "outputs": [
    {
     "name": "stdout",
     "output_type": "stream",
     "text": [
      "X1 ztest: tstat = -1.804 pvalue = 0.07124846094097856\n"
     ]
    }
   ],
   "source": [
    "x1_ztest_tstat, x1_ztest_pvalue = ztest(x1, value=2.3)\n",
    "print(f\"X1 ztest: tstat = {x1_ztest_tstat:.3f} pvalue = {x1_ztest_pvalue:.3f }\")"
   ]
  },
  {
   "cell_type": "code",
   "execution_count": null,
   "metadata": {},
   "outputs": [],
   "source": []
  },
  {
   "cell_type": "code",
   "execution_count": null,
   "metadata": {},
   "outputs": [],
   "source": []
  }
 ],
 "metadata": {
  "kernelspec": {
   "display_name": "Python 3",
   "language": "python",
   "name": "python3"
  },
  "language_info": {
   "codemirror_mode": {
    "name": "ipython",
    "version": 3
   },
   "file_extension": ".py",
   "mimetype": "text/x-python",
   "name": "python",
   "nbconvert_exporter": "python",
   "pygments_lexer": "ipython3",
   "version": "3.10.12"
  },
  "orig_nbformat": 4
 },
 "nbformat": 4,
 "nbformat_minor": 2
}
