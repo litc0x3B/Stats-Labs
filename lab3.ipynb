{
 "cells": [
  {
   "cell_type": "code",
   "execution_count": 19,
   "metadata": {},
   "outputs": [],
   "source": [
    "from scipy import stats\n",
    "from matplotlib import pyplot as plt\n",
    "import numpy as np\n",
    "import pandas as pd\n",
    "\n",
    "np.random.seed(seed=999)"
   ]
  },
  {
   "cell_type": "code",
   "execution_count": 20,
   "metadata": {},
   "outputs": [],
   "source": [
    "X = [np.ndarray] * 4\n",
    "X[0] = stats.chi2(2).rvs(size=100)\n",
    "X[1] = stats.norm(3, 1).rvs(size=150)\n",
    "X[2] = stats.uniform(-2, 4).rvs(size=200)\n",
    "X[3] = stats.norm(5, 1).rvs(size=100)\n",
    "pooled = np.concatenate(X)"
   ]
  },
  {
   "cell_type": "code",
   "execution_count": 24,
   "metadata": {},
   "outputs": [
    {
     "data": {
      "text/html": [
       "<div>\n",
       "<style scoped>\n",
       "    .dataframe tbody tr th:only-of-type {\n",
       "        vertical-align: middle;\n",
       "    }\n",
       "\n",
       "    .dataframe tbody tr th {\n",
       "        vertical-align: top;\n",
       "    }\n",
       "\n",
       "    .dataframe thead th {\n",
       "        text-align: right;\n",
       "    }\n",
       "</style>\n",
       "<table border=\"1\" class=\"dataframe\">\n",
       "  <thead>\n",
       "    <tr style=\"text-align: right;\">\n",
       "      <th></th>\n",
       "      <th>mean</th>\n",
       "      <th>var</th>\n",
       "      <th>std</th>\n",
       "    </tr>\n",
       "  </thead>\n",
       "  <tbody>\n",
       "    <tr>\n",
       "      <th>X1</th>\n",
       "      <td>2.358265</td>\n",
       "      <td>5.550881</td>\n",
       "      <td>2.356031</td>\n",
       "    </tr>\n",
       "    <tr>\n",
       "      <th>X2</th>\n",
       "      <td>2.983326</td>\n",
       "      <td>0.945666</td>\n",
       "      <td>0.972454</td>\n",
       "    </tr>\n",
       "    <tr>\n",
       "      <th>X3</th>\n",
       "      <td>-0.11176</td>\n",
       "      <td>1.251382</td>\n",
       "      <td>1.118652</td>\n",
       "    </tr>\n",
       "    <tr>\n",
       "      <th>X4</th>\n",
       "      <td>4.812581</td>\n",
       "      <td>1.030817</td>\n",
       "      <td>1.015292</td>\n",
       "    </tr>\n",
       "    <tr>\n",
       "      <th>Pooled</th>\n",
       "      <td>2.076784</td>\n",
       "      <td>5.250719</td>\n",
       "      <td>2.291445</td>\n",
       "    </tr>\n",
       "  </tbody>\n",
       "</table>\n",
       "</div>"
      ],
      "text/plain": [
       "            mean       var       std\n",
       "X1      2.358265  5.550881  2.356031\n",
       "X2      2.983326  0.945666  0.972454\n",
       "X3      -0.11176  1.251382  1.118652\n",
       "X4      4.812581  1.030817  1.015292\n",
       "Pooled  2.076784  5.250719  2.291445"
      ]
     },
     "execution_count": 24,
     "metadata": {},
     "output_type": "execute_result"
    }
   ],
   "source": [
    "res = pd.DataFrame(index=[f'X{i + 1}' for i in range(len(X))] + [\"Pooled\"], columns = [\"mean\", \"var\", \"std\"])\n",
    "for i in range(len(X) + 1):\n",
    "    if i == len(X):\n",
    "        res.loc['Pooled', :] = [pooled.mean(), pooled.var(), pooled.std()]\n",
    "    else:\n",
    "        res.loc[f'X{i + 1}', :] = [X[i].mean(), X[i].var(), X[i].std()]\n",
    "        \n",
    "res"
   ]
  },
  {
   "cell_type": "code",
   "execution_count": 37,
   "metadata": {},
   "outputs": [
    {
     "data": {
      "image/png": "[encoded data removed]",
      "text/plain": [
       "<Figure size 640x480 with 1 Axes>"
      ]
     },
     "metadata": {},
     "output_type": "display_data"
    }
   ],
   "source": [
    "_ = plt.boxplot(X + [pooled], vert=False, labels=[f\"$X_{i + 1}$\" for i in range(len(X))] + [\"Pooled\"])"
   ]
  },
  {
   "cell_type": "code",
   "execution_count": 38,
   "metadata": {},
   "outputs": [
    {
     "name": "stdout",
     "output_type": "stream",
     "text": [
      "stat: 143.7448595642775, pvalue: 5.88744606272854e-31\n"
     ]
    }
   ],
   "source": [
    "res = stats.bartlett(*X)\n",
    "print(f\"stat: {res.statistic}, pvalue: {res.pvalue}\")"
   ]
  },
  {
   "cell_type": "code",
   "execution_count": null,
   "metadata": {},
   "outputs": [],
   "source": []
  }
 ],
 "metadata": {
  "kernelspec": {
   "display_name": "Python 3",
   "language": "python",
   "name": "python3"
  },
  "language_info": {
   "codemirror_mode": {
    "name": "ipython",
    "version": 3
   },
   "file_extension": ".py",
   "mimetype": "text/x-python",
   "name": "python",
   "nbconvert_exporter": "python",
   "pygments_lexer": "ipython3",
   "version": "3.10.12"
  }
 },
 "nbformat": 4,
 "nbformat_minor": 2
}
