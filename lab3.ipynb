{
 "cells": [
  {
   "cell_type": "code",
   "execution_count": 115,
   "metadata": {},
   "outputs": [],
   "source": [
    "from scipy import stats\n",
    "from matplotlib import pyplot as plt\n",
    "import numpy as np\n",
    "import pandas as pd\n",
    "\n",
    "plt.style.use('ggplot') \n",
    "\n",
    "np.random.seed(seed=999)"
   ]
  },
  {
   "cell_type": "code",
   "execution_count": 116,
   "metadata": {},
   "outputs": [],
   "source": [
    "X = [np.ndarray] * 4\n",
    "X[0] = stats.chi2(2).rvs(size=100)\n",
    "X[1] = stats.norm(3, 1).rvs(size=150)\n",
    "X[2] = stats.uniform(-2, 4).rvs(size=200)\n",
    "X[3] = stats.norm(5, 1).rvs(size=100)\n",
    "pooled = np.concatenate(X)"
   ]
  },
  {
   "cell_type": "code",
   "execution_count": 117,
   "metadata": {},
   "outputs": [
    {
     "data": {
      "text/html": [
       "<div>\n",
       "<style scoped>\n",
       "    .dataframe tbody tr th:only-of-type {\n",
       "        vertical-align: middle;\n",
       "    }\n",
       "\n",
       "    .dataframe tbody tr th {\n",
       "        vertical-align: top;\n",
       "    }\n",
       "\n",
       "    .dataframe thead th {\n",
       "        text-align: right;\n",
       "    }\n",
       "</style>\n",
       "<table border=\"1\" class=\"dataframe\">\n",
       "  <thead>\n",
       "    <tr style=\"text-align: right;\">\n",
       "      <th></th>\n",
       "      <th>mean</th>\n",
       "      <th>var</th>\n",
       "      <th>std</th>\n",
       "    </tr>\n",
       "  </thead>\n",
       "  <tbody>\n",
       "    <tr>\n",
       "      <th>X1</th>\n",
       "      <td>2.358265</td>\n",
       "      <td>5.550881</td>\n",
       "      <td>2.356031</td>\n",
       "    </tr>\n",
       "    <tr>\n",
       "      <th>X2</th>\n",
       "      <td>2.983326</td>\n",
       "      <td>0.945666</td>\n",
       "      <td>0.972454</td>\n",
       "    </tr>\n",
       "    <tr>\n",
       "      <th>X3</th>\n",
       "      <td>-0.11176</td>\n",
       "      <td>1.251382</td>\n",
       "      <td>1.118652</td>\n",
       "    </tr>\n",
       "    <tr>\n",
       "      <th>X4</th>\n",
       "      <td>4.812581</td>\n",
       "      <td>1.030817</td>\n",
       "      <td>1.015292</td>\n",
       "    </tr>\n",
       "    <tr>\n",
       "      <th>Pooled</th>\n",
       "      <td>2.076784</td>\n",
       "      <td>5.250719</td>\n",
       "      <td>2.291445</td>\n",
       "    </tr>\n",
       "  </tbody>\n",
       "</table>\n",
       "</div>"
      ],
      "text/plain": [
       "            mean       var       std\n",
       "X1      2.358265  5.550881  2.356031\n",
       "X2      2.983326  0.945666  0.972454\n",
       "X3      -0.11176  1.251382  1.118652\n",
       "X4      4.812581  1.030817  1.015292\n",
       "Pooled  2.076784  5.250719  2.291445"
      ]
     },
     "execution_count": 117,
     "metadata": {},
     "output_type": "execute_result"
    }
   ],
   "source": [
    "res = pd.DataFrame(index=[f'X{i + 1}' for i in range(len(X))] + [\"Pooled\"], columns = [\"mean\", \"var\", \"std\"])\n",
    "for i in range(len(X) + 1):\n",
    "    if i == len(X):\n",
    "        res.loc['Pooled', :] = [pooled.mean(), pooled.var(), pooled.std()]\n",
    "    else:\n",
    "        res.loc[f'X{i + 1}', :] = [X[i].mean(), X[i].var(), X[i].std()]\n",
    "        \n",
    "res"
   ]
  },
  {
   "cell_type": "code",
   "execution_count": 118,
   "metadata": {},
   "outputs": [
    {
     "data": {
      "image/png": "[encoded data removed]",
      "text/plain": [
       "<Figure size 640x480 with 1 Axes>"
      ]
     },
     "metadata": {},
     "output_type": "display_data"
    }
   ],
   "source": [
    "_ = plt.boxplot(X + [pooled], vert=False, labels=[f\"$X_{i + 1}$\" for i in range(len(X))] + [\"Pooled\"])"
   ]
  },
  {
   "cell_type": "code",
   "execution_count": 119,
   "metadata": {},
   "outputs": [
    {
     "name": "stdout",
     "output_type": "stream",
     "text": [
      "stat: 143.7448595642775, pvalue: 5.88744606272854e-31\n"
     ]
    }
   ],
   "source": [
    "res = stats.bartlett(*X)\n",
    "print(f\"stat: {res.statistic}, pvalue: {res.pvalue}\")"
   ]
  },
  {
   "cell_type": "code",
   "execution_count": 120,
   "metadata": {},
   "outputs": [
    {
     "data": {
      "text/plain": [
       "550"
      ]
     },
     "execution_count": 120,
     "metadata": {},
     "output_type": "execute_result"
    }
   ],
   "source": [
    "pooled.size"
   ]
  },
  {
   "cell_type": "code",
   "execution_count": 121,
   "metadata": {},
   "outputs": [
    {
     "data": {
      "text/plain": [
       "F_onewayResult(statistic=318.4274244904503, pvalue=1.7897288796137172e-119)"
      ]
     },
     "execution_count": 121,
     "metadata": {},
     "output_type": "execute_result"
    }
   ],
   "source": [
    "stats.f_oneway(*X)"
   ]
  },
  {
   "cell_type": "code",
   "execution_count": 122,
   "metadata": {},
   "outputs": [
    {
     "name": "stdout",
     "output_type": "stream",
     "text": [
      "\t\tvar_bg: 3.341, var_wg: 1.910, var_pooled: 5.251, var_bg + var_wg: 5.251\n",
      "unbiased\tvar_bg: 612.533, var_wg: 1.924, var_pooled: 5.260, var_bg + var_wg: 614.457\n",
      "det_coef^2: 1.750, det_coef: 1.323\n"
     ]
    }
   ],
   "source": [
    "pooled_mean = pooled.mean()\n",
    "\n",
    "var_bg = 0\n",
    "for sample in X:\n",
    "    var_bg += sample.size * (sample.mean() - pooled_mean)**2\n",
    "var_bg /= pooled.size\n",
    "\n",
    "var_wg = 0\n",
    "for sample in X:\n",
    "    var_wg += sample.size * sample.var()\n",
    "var_wg /= pooled.size\n",
    "\n",
    "unbiased_var_bg = pooled.size / (len(X) - 1) * var_bg\n",
    "unbiased_var_wg = pooled.size / (pooled.size - len(X)) * var_wg\n",
    "unbiased_var_pooled = np.var(pooled, ddof=1)\n",
    "\n",
    "print(f\"\\t\\tvar_bg: {var_bg:.3f}, var_wg: {var_wg:.3f}, var_pooled: {pooled.var():.3f}, var_bg + var_wg: {var_bg + var_wg:.3f}\")\n",
    "print(f\"unbiased\\tvar_bg: {unbiased_var_bg:.3f}, var_wg: {unbiased_var_wg:.3f}, var_pooled: {unbiased_var_pooled:.3f}, var_bg + var_wg: {unbiased_var_bg + unbiased_var_wg:.3f}\")\n",
    "print(f\"det_coef^2: {var_bg/var_wg:.3f}, det_coef: {(var_bg/var_wg)**(1/2):.3f}\")"
   ]
  },
  {
   "cell_type": "code",
   "execution_count": 123,
   "metadata": {},
   "outputs": [
    {
     "data": {
      "text/html": [
       "<table class=\"simpletable\">\n",
       "<caption>Multiple Comparison of Means - Tukey HSD, FWER=0.20</caption>\n",
       "<tr>\n",
       "  <th>group1</th> <th>group2</th> <th>meandiff</th>  <th>p-adj</th>  <th>lower</th>   <th>upper</th>  <th>reject</th>\n",
       "</tr>\n",
       "<tr>\n",
       "     <td>1</td>      <td>2</td>    <td>0.6251</td>  <td>0.0029</td>  <td>0.272</td>  <td>0.9781</td>   <td>True</td> \n",
       "</tr>\n",
       "<tr>\n",
       "     <td>1</td>      <td>3</td>     <td>-2.47</td>    <td>0.0</td>  <td>-2.8049</td> <td>-2.1351</td>  <td>True</td> \n",
       "</tr>\n",
       "<tr>\n",
       "     <td>1</td>      <td>4</td>    <td>2.4543</td>    <td>0.0</td>  <td>2.0676</td>  <td>2.8411</td>   <td>True</td> \n",
       "</tr>\n",
       "<tr>\n",
       "     <td>2</td>      <td>3</td>    <td>-3.0951</td>   <td>0.0</td>  <td>-3.3905</td> <td>-2.7997</td>  <td>True</td> \n",
       "</tr>\n",
       "<tr>\n",
       "     <td>2</td>      <td>4</td>    <td>1.8293</td>    <td>0.0</td>  <td>1.4762</td>  <td>2.1823</td>   <td>True</td> \n",
       "</tr>\n",
       "<tr>\n",
       "     <td>3</td>      <td>4</td>    <td>4.9243</td>    <td>0.0</td>  <td>4.5894</td>  <td>5.2593</td>   <td>True</td> \n",
       "</tr>\n",
       "</table>"
      ],
      "text/latex": [
       "\\begin{center}\n",
       "\\begin{tabular}{ccccccc}\n",
       "\\toprule\n",
       "\\textbf{group1} & \\textbf{group2} & \\textbf{meandiff} & \\textbf{p-adj} & \\textbf{lower} & \\textbf{upper} & \\textbf{reject}  \\\\\n",
       "\\midrule\n",
       "       1        &        2        &       0.6251      &     0.0029     &     0.272      &     0.9781     &       True       \\\\\n",
       "       1        &        3        &       -2.47       &      0.0       &    -2.8049     &    -2.1351     &       True       \\\\\n",
       "       1        &        4        &       2.4543      &      0.0       &     2.0676     &     2.8411     &       True       \\\\\n",
       "       2        &        3        &      -3.0951      &      0.0       &    -3.3905     &    -2.7997     &       True       \\\\\n",
       "       2        &        4        &       1.8293      &      0.0       &     1.4762     &     2.1823     &       True       \\\\\n",
       "       3        &        4        &       4.9243      &      0.0       &     4.5894     &     5.2593     &       True       \\\\\n",
       "\\bottomrule\n",
       "\\end{tabular}\n",
       "%\\caption{Multiple Comparison of Means - Tukey HSD, FWER=0.20}\n",
       "\\end{center}"
      ],
      "text/plain": [
       "<class 'statsmodels.iolib.table.SimpleTable'>"
      ]
     },
     "metadata": {},
     "output_type": "display_data"
    },
    {
     "data": {
      "image/png": "[encoded data removed]",
      "text/plain": [
       "<Figure size 640x480 with 1 Axes>"
      ]
     },
     "metadata": {},
     "output_type": "display_data"
    }
   ],
   "source": [
    "from statsmodels.stats.multicomp import pairwise_tukeyhsd\n",
    "\n",
    "res = pairwise_tukeyhsd(endog=pooled, groups=[i + 1 for i in range(len(X)) for j in range(X[i].size)], alpha=0.2)\n",
    "display(res.summary())\n",
    "\n",
    "data = res.summary().data\n",
    "data.pop(0)\n",
    "plt.plot(res.confint.T, np.asarray([[i, i] for i in range(res.confint.shape[0])]).T, marker='|')\n",
    "_ = plt.yticks(range(res.confint.shape[0]), [f'C{row[0]}{row[1]}' for row in data])"
   ]
  },
  {
   "cell_type": "code",
   "execution_count": null,
   "metadata": {},
   "outputs": [],
   "source": []
  },
  {
   "cell_type": "code",
   "execution_count": null,
   "metadata": {},
   "outputs": [],
   "source": []
  }
 ],
 "metadata": {
  "kernelspec": {
   "display_name": "Python 3",
   "language": "python",
   "name": "python3"
  },
  "language_info": {
   "codemirror_mode": {
    "name": "ipython",
    "version": 3
   },
   "file_extension": ".py",
   "mimetype": "text/x-python",
   "name": "python",
   "nbconvert_exporter": "python",
   "pygments_lexer": "ipython3",
   "version": "3.8.10"
  }
 },
 "nbformat": 4,
 "nbformat_minor": 2
}
